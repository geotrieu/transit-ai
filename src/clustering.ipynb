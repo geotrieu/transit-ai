{
 "cells": [
  {
   "cell_type": "markdown",
   "source": [
    "# Clustering\n",
    "This notebook handles clustering different datapoints and classifying the clusters from most dense to least.\n",
    "Uses weighted K-Means clustering."
   ],
   "metadata": {
    "collapsed": false
   }
  },
  {
   "cell_type": "code",
   "execution_count": null,
   "outputs": [],
   "source": [
    "import pandas as pd\n",
    "import numpy as np\n",
    "from sklearn.cluster import KMeans\n",
    "from pathlib import Path\n",
    "from plotting_utility import *"
   ],
   "metadata": {
    "collapsed": false
   }
  },
  {
   "cell_type": "markdown",
   "source": [
    "### Grid Points Load (output from scoring.ipynb)\n",
    "Grid Points are now scored in `scoring.ipynb`."
   ],
   "metadata": {
    "collapsed": false
   }
  },
  {
   "cell_type": "code",
   "execution_count": null,
   "outputs": [],
   "source": [
    "YYZ_GridPoints = pd.read_csv('../res/grid_points/yyz_grid_points_0.9.csv', sep = ',')"
   ],
   "metadata": {
    "collapsed": false
   }
  },
  {
   "cell_type": "markdown",
   "source": [
    "### Clustering Parameters"
   ],
   "metadata": {
    "collapsed": false
   }
  },
  {
   "cell_type": "code",
   "execution_count": null,
   "outputs": [],
   "source": [
    "NUM_CLUSTERS = 6\n",
    "MIN_SCORE_THRESHOLD = 0.5 # minimum score to be considered in the clustering"
   ],
   "metadata": {
    "collapsed": false
   }
  },
  {
   "cell_type": "markdown",
   "source": [
    "### Clustering Functions"
   ],
   "metadata": {
    "collapsed": false
   }
  },
  {
   "cell_type": "code",
   "execution_count": null,
   "outputs": [],
   "source": [
    "# Cluster Function, runs k-means clustering and saves the results (cluster) to a new column in the dataframe\n",
    "def cluster(gridPoints):\n",
    "    clusteredGridPoints = gridPoints.copy()\n",
    "    clusteredGridPoints = clusteredGridPoints.loc[clusteredGridPoints['score'] > MIN_SCORE_THRESHOLD]\n",
    "    kmeans = KMeans(n_clusters=NUM_CLUSTERS, random_state=0).fit(clusteredGridPoints[[\"lat\", \"long\"]], 0, clusteredGridPoints[\"score\"])\n",
    "    clusteredGridPoints['cluster'] = kmeans.labels_.tolist()\n",
    "    return clusteredGridPoints"
   ],
   "metadata": {
    "collapsed": false
   }
  },
  {
   "cell_type": "code",
   "execution_count": null,
   "outputs": [],
   "source": [
    "# Sort Cluster Function, sorts clusters by the average of scores contained in that cluster.\n",
    "# i.e. we have to sort the clusters so that downtown (the densest area with highest score) is cluster 0, next dense is cluster 1, etc.\n",
    "def sortClustersByScore(gridPoints):\n",
    "    clusteredGridPoints = gridPoints.copy()\n",
    "    clusterScoreSums = []\n",
    "    for i in range(NUM_CLUSTERS):\n",
    "        selectedCluster = gridPoints.loc[gridPoints['cluster'] == i]\n",
    "        clusterScoreSums.append(selectedCluster['score'].mean())\n",
    "    sortIndiciesDescending = np.argsort(clusterScoreSums)[::-1][:NUM_CLUSTERS].flatten()\n",
    "    newClusters = {k: v for v, k in enumerate(sortIndiciesDescending)}\n",
    "    clusteredGridPoints['cluster'] = gridPoints['cluster'].map(newClusters)\n",
    "    return clusteredGridPoints"
   ],
   "metadata": {
    "collapsed": false
   }
  },
  {
   "cell_type": "markdown",
   "source": [
    "### Cluster (YYZ)"
   ],
   "metadata": {
    "collapsed": false
   }
  },
  {
   "cell_type": "code",
   "execution_count": null,
   "outputs": [],
   "source": [
    "# Clustered `Grid Points` is a subset of `Grid Points` with only entries with a score > MIN_SCORE_THRESHOLD, with a cluster column added\n",
    "YYZ_Clustered_GridPoints = cluster(YYZ_GridPoints)\n",
    "YYZ_Clustered_GridPoints = sortClustersByScore(YYZ_Clustered_GridPoints)"
   ],
   "metadata": {
    "collapsed": false
   }
  },
  {
   "cell_type": "markdown",
   "source": [
    "### Visualization"
   ],
   "metadata": {
    "collapsed": false
   }
  },
  {
   "cell_type": "code",
   "execution_count": null,
   "outputs": [],
   "source": [
    "plotGridPoints3D(YYZ_Clustered_GridPoints, YYZ_Clustered_GridPoints['cluster'].astype(float))"
   ],
   "metadata": {
    "collapsed": false
   }
  },
  {
   "cell_type": "code",
   "execution_count": null,
   "outputs": [],
   "source": [
    "plotGridPoints2D(YYZ_Clustered_GridPoints, YYZ_Clustered_GridPoints[\"cluster\"].astype(float))"
   ],
   "metadata": {
    "collapsed": false
   }
  },
  {
   "cell_type": "markdown",
   "source": [
    "### Export"
   ],
   "metadata": {
    "collapsed": false
   }
  },
  {
   "cell_type": "code",
   "execution_count": null,
   "outputs": [],
   "source": [
    "def exportClusteredGridPointsToCsv(gridPoints, name):\n",
    "    filepath = Path('../res/grid_points/' + name + '.csv')\n",
    "    filepath.parent.mkdir(parents=True, exist_ok=True)\n",
    "    gridPoints.to_csv(filepath)"
   ],
   "metadata": {
    "collapsed": false
   }
  },
  {
   "cell_type": "code",
   "execution_count": null,
   "outputs": [],
   "source": [
    "exportClusteredGridPointsToCsv(YYZ_Clustered_GridPoints, 'yyz_clustered_grid_points')"
   ],
   "metadata": {
    "collapsed": false
   }
  },
  {
   "cell_type": "code",
   "execution_count": null,
   "outputs": [],
   "source": [],
   "metadata": {
    "collapsed": false
   }
  }
 ],
 "metadata": {
  "kernelspec": {
   "display_name": "Python 3",
   "language": "python",
   "name": "python3"
  },
  "language_info": {
   "codemirror_mode": {
    "name": "ipython",
    "version": 2
   },
   "file_extension": ".py",
   "mimetype": "text/x-python",
   "name": "python",
   "nbconvert_exporter": "python",
   "pygments_lexer": "ipython2",
   "version": "2.7.6"
  }
 },
 "nbformat": 4,
 "nbformat_minor": 0
}
