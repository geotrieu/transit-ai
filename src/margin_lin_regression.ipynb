{
 "cells": [
  {
   "cell_type": "code",
   "execution_count": 6,
   "id": "1f84e851-3ac1-4d8e-9751-d561fac29dd2",
   "metadata": {},
   "outputs": [],
   "source": [
    "import pandas as pd\n",
    "import matplotlib.pyplot as plt"
   ]
  },
  {
   "cell_type": "code",
   "execution_count": 11,
   "id": "ff65b8be-df81-48b1-9ac3-ccee9dd6ddf2",
   "metadata": {},
   "outputs": [],
   "source": [
    "data = pd.DataFrame(data=[\n",
    "    {\n",
    "        \"x\": 3,\n",
    "        \"y\": 3,\n",
    "        \"z\": 1\n",
    "    },\n",
    "    {\n",
    "        \"x\": 4,\n",
    "        \"y\": 3,\n",
    "        \"z\": 1\n",
    "    },\n",
    "    {\n",
    "        \"x\": 4,\n",
    "        \"y\": 2,\n",
    "        \"z\": 1\n",
    "    },\n",
    "    {\n",
    "        \"x\": 5,\n",
    "        \"y\": 1,\n",
    "        \"z\": 1\n",
    "    },\n",
    "    {\n",
    "        \"x\": 1,\n",
    "        \"y\": 4,\n",
    "        \"z\": 1\n",
    "    },\n",
    "    {\n",
    "        \"x\": 6,\n",
    "        \"y\": 6,\n",
    "        \"z\": 1\n",
    "    },\n",
    "    {\n",
    "        \"x\": 7,\n",
    "        \"y\": 6,\n",
    "        \"z\": 1\n",
    "    },\n",
    "    {\n",
    "        \"x\": 7,\n",
    "        \"y\": 5,\n",
    "        \"z\": 1\n",
    "    },\n",
    "    {\n",
    "        \"x\": 8,\n",
    "        \"y\": 4,\n",
    "        \"z\": 1\n",
    "    },\n",
    "    {\n",
    "        \"x\": 4,\n",
    "        \"y\": 7,\n",
    "        \"z\": 1\n",
    "    },\n",
    "])"
   ]
  },
  {
   "cell_type": "code",
   "execution_count": 12,
   "id": "db86e596-6729-4639-8b6e-3afe23d7217a",
   "metadata": {},
   "outputs": [
    {
     "data": {
      "text/plain": [
       "<matplotlib.collections.PathCollection at 0x1ae83e05ac0>"
      ]
     },
     "execution_count": 12,
     "metadata": {},
     "output_type": "execute_result"
    },
    {
     "data": {
      "image/png": "[encoded data removed]",
      "text/plain": [
       "<Figure size 432x288 with 1 Axes>"
      ]
     },
     "metadata": {
      "needs_background": "light"
     },
     "output_type": "display_data"
    }
   ],
   "source": [
    "plt.scatter(data['x'], data['y'])"
   ]
  },
  {
   "cell_type": "code",
   "execution_count": null,
   "id": "cf69bc9e-5988-48d6-a4b3-ac123ae752ab",
   "metadata": {},
   "outputs": [],
   "source": [
    "m = 0\n",
    "b = 0\n",
    "epochs = 1000\n",
    "margin = 1\n",
    "\n",
    "for i in range(epochs):\n",
    "    X_in_margin = data.loc[X.]\n",
    "    \n",
    "    Y_pred = m*X + c  # The current predicted value of Y\n",
    "    D_m = (-2/n) * sum(X * (Y - Y_pred))  # Derivative wrt m\n",
    "    D_c = (-2/n) * sum(Y - Y_pred)  # Derivative wrt c\n",
    "    m = m - L * D_m  # Update m\n",
    "    c = c - L * D_c  # Update c"
   ]
  }
 ],
 "metadata": {
  "kernelspec": {
   "display_name": "Python 3",
   "language": "python",
   "name": "python3"
  },
  "language_info": {
   "codemirror_mode": {
    "name": "ipython",
    "version": 3
   },
   "file_extension": ".py",
   "mimetype": "text/x-python",
   "name": "python",
   "nbconvert_exporter": "python",
   "pygments_lexer": "ipython3",
   "version": "3.8.8"
  }
 },
 "nbformat": 4,
 "nbformat_minor": 5
}
