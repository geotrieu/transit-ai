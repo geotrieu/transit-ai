{
 "cells": [
  {
   "cell_type": "code",
   "execution_count": 1,
   "outputs": [],
   "source": [
    "import pandas as pd\n",
    "import ast\n",
    "from geopy.distance import geodesic\n",
    "import math\n",
    "import numpy as np\n",
    "from get_bounds import *\n",
    "from pathlib import Path"
   ],
   "metadata": {
    "collapsed": false
   }
  },
  {
   "cell_type": "markdown",
   "source": [
    "### Dataset Retrieval and Preprocessing"
   ],
   "metadata": {
    "collapsed": false
   }
  },
  {
   "cell_type": "code",
   "execution_count": 2,
   "outputs": [],
   "source": [
    "def getTCDSBSchools():\n",
    "    df = pd.read_csv('../res/datasets/schools/TCDSB_Schools.csv', sep = ',')\n",
    "    coordinates = df.drop(['_id', 'OBJECTID', 'TCDSB_CODE', 'SCH_NAME','ADDRESS_FULL', 'MUNICIPALITY', 'POSTAL_CODE', 'TCDSB_LEVEL', 'STATUS'], axis = 1)\n",
    "    coordinates = coordinates['geometry'].astype('str')\n",
    "    coordinates = coordinates.apply(lambda x: ast.literal_eval(x))\n",
    "    coordinates = coordinates.apply(pd.Series)\n",
    "    lat = coordinates['coordinates'].apply(lambda x: x[1])\n",
    "    long = coordinates['coordinates'].apply(lambda x: x[0])\n",
    "    return pd.DataFrame(data={'name':df['SCH_NAME'], 'type': 'tcdsb', 'lat': lat, 'long': long})\n",
    "\n",
    "tcdsbSchools = getTCDSBSchools()"
   ],
   "metadata": {
    "collapsed": false
   }
  },
  {
   "cell_type": "code",
   "execution_count": 3,
   "outputs": [],
   "source": [
    "def getRestaurants():\n",
    "    df = pd.read_csv('../res/datasets/csv/restaurant.csv', sep = ',')\n",
    "    return df\n",
    "\n",
    "restaurants = getRestaurants()"
   ],
   "metadata": {
    "collapsed": false
   }
  },
  {
   "cell_type": "code",
   "execution_count": 4,
   "outputs": [
    {
     "data": {
      "text/plain": "                              name   type        lat       long\n0                     Annunciation  tcdsb  43.753351 -79.321268\n1                       All Saints  tcdsb  43.685618 -79.527163\n2               St. Martin Program  tcdsb  43.667175 -79.364426\n3    Bishop Marrocco-Thomas Merton  tcdsb  43.655858 -79.451808\n4             Bishop Allen Academy  tcdsb  43.634428 -79.504465\n..                             ...    ...        ...        ...\n205     Our Lady of Perpetual Help  tcdsb  43.687298 -79.383305\n206                    St Josaphat  tcdsb  43.599299 -79.509060\n207         North East SAL Program  tcdsb  43.809351 -79.316603\n208                East Facilities  tcdsb  43.735510 -79.324065\n209                West Facilities  tcdsb  43.719060 -79.509603\n\n[210 rows x 4 columns]",
      "text/html": "<div>\n<style scoped>\n    .dataframe tbody tr th:only-of-type {\n        vertical-align: middle;\n    }\n\n    .dataframe tbody tr th {\n        vertical-align: top;\n    }\n\n    .dataframe thead th {\n        text-align: right;\n    }\n</style>\n<table border=\"1\" class=\"dataframe\">\n  <thead>\n    <tr style=\"text-align: right;\">\n      <th></th>\n      <th>name</th>\n      <th>type</th>\n      <th>lat</th>\n      <th>long</th>\n    </tr>\n  </thead>\n  <tbody>\n    <tr>\n      <th>0</th>\n      <td>Annunciation</td>\n      <td>tcdsb</td>\n      <td>43.753351</td>\n      <td>-79.321268</td>\n    </tr>\n    <tr>\n      <th>1</th>\n      <td>All Saints</td>\n      <td>tcdsb</td>\n      <td>43.685618</td>\n      <td>-79.527163</td>\n    </tr>\n    <tr>\n      <th>2</th>\n      <td>St. Martin Program</td>\n      <td>tcdsb</td>\n      <td>43.667175</td>\n      <td>-79.364426</td>\n    </tr>\n    <tr>\n      <th>3</th>\n      <td>Bishop Marrocco-Thomas Merton</td>\n      <td>tcdsb</td>\n      <td>43.655858</td>\n      <td>-79.451808</td>\n    </tr>\n    <tr>\n      <th>4</th>\n      <td>Bishop Allen Academy</td>\n      <td>tcdsb</td>\n      <td>43.634428</td>\n      <td>-79.504465</td>\n    </tr>\n    <tr>\n      <th>...</th>\n      <td>...</td>\n      <td>...</td>\n      <td>...</td>\n      <td>...</td>\n    </tr>\n    <tr>\n      <th>205</th>\n      <td>Our Lady of Perpetual Help</td>\n      <td>tcdsb</td>\n      <td>43.687298</td>\n      <td>-79.383305</td>\n    </tr>\n    <tr>\n      <th>206</th>\n      <td>St Josaphat</td>\n      <td>tcdsb</td>\n      <td>43.599299</td>\n      <td>-79.509060</td>\n    </tr>\n    <tr>\n      <th>207</th>\n      <td>North East SAL Program</td>\n      <td>tcdsb</td>\n      <td>43.809351</td>\n      <td>-79.316603</td>\n    </tr>\n    <tr>\n      <th>208</th>\n      <td>East Facilities</td>\n      <td>tcdsb</td>\n      <td>43.735510</td>\n      <td>-79.324065</td>\n    </tr>\n    <tr>\n      <th>209</th>\n      <td>West Facilities</td>\n      <td>tcdsb</td>\n      <td>43.719060</td>\n      <td>-79.509603</td>\n    </tr>\n  </tbody>\n</table>\n<p>210 rows × 4 columns</p>\n</div>"
     },
     "execution_count": 4,
     "metadata": {},
     "output_type": "execute_result"
    }
   ],
   "source": [
    "tcdsbSchools"
   ],
   "metadata": {
    "collapsed": false
   }
  },
  {
   "cell_type": "markdown",
   "source": [
    "### Scoring Parameters"
   ],
   "metadata": {
    "collapsed": false
   }
  },
  {
   "cell_type": "code",
   "execution_count": 5,
   "outputs": [],
   "source": [
    "STD_DEV = 0.6\n",
    "PT_DENSITY = 50\n",
    "SCORE_MIN_THRESHOLD = 0.1"
   ],
   "metadata": {
    "collapsed": false
   }
  },
  {
   "cell_type": "markdown",
   "source": [
    "### Scoring Functions"
   ],
   "metadata": {
    "collapsed": false
   }
  },
  {
   "cell_type": "code",
   "execution_count": 6,
   "outputs": [],
   "source": [
    "def getDistance(origin, stationCor):\n",
    "    return abs(geodesic(origin, stationCor).meters/1000)"
   ],
   "metadata": {
    "collapsed": false
   }
  },
  {
   "cell_type": "code",
   "execution_count": 7,
   "outputs": [],
   "source": [
    "def score(latStation, longStation, latOrigin, longOrigin, stdDev):\n",
    "\n",
    "    stationCor = (latStation, longStation)\n",
    "\n",
    "    totalScore = 0\n",
    "\n",
    "    for Lat, Long in zip(latOrigin, longOrigin):\n",
    "        origin = (Lat, Long)\n",
    "        r = getDistance(origin, stationCor)\n",
    "        # this score function simply uses the traditional gaussian distribution formula,\n",
    "        # except it extracts all the common parts to be multiplied last for efficiency.\n",
    "        score =  math.exp(-0.5*((r**2) / (stdDev**2)))\n",
    "        totalScore += score\n",
    "\n",
    "    #adjustFactor = 210 * 0.9974\n",
    "    #totalScore = (totalScorePre/adjustFactor)*100\n",
    "\n",
    "    # Multiply common part in gaussian distribution formula\n",
    "    totalScore *= (1/(stdDev * math.sqrt(2 * math.pi)))\n",
    "\n",
    "    return totalScore"
   ],
   "metadata": {
    "collapsed": false
   }
  },
  {
   "cell_type": "code",
   "execution_count": 8,
   "outputs": [],
   "source": [
    "def generateGridScores(poi, upperLatBound, bottomLatBound, leftLongBound, rightLongBound):\n",
    "    gridPoints = pd.DataFrame(columns = ['lat', 'long', 'score'])\n",
    "    latStep = round((upperLatBound-bottomLatBound)/PT_DENSITY, 4)\n",
    "    longStep = round((rightLongBound-leftLongBound)/PT_DENSITY, 4)\n",
    "\n",
    "    for lat in np.arange(bottomLatBound, upperLatBound + latStep, latStep):\n",
    "        for long in np.arange(leftLongBound, rightLongBound + longStep, longStep):\n",
    "            pointScore = score(lat, long, poi['lat'], poi['long'], STD_DEV);\n",
    "\n",
    "            pointScore = pointScore if pointScore > SCORE_MIN_THRESHOLD else 0.0;\n",
    "\n",
    "            pointScoreDict = {'lat' : [lat], 'long' : [long], 'score' : [pointScore]};\n",
    "            pointScoreDf = pd.DataFrame(data=pointScoreDict)\n",
    "            gridPoints = pd.concat([gridPoints, pointScoreDf], ignore_index = True)\n",
    "\n",
    "    return gridPoints"
   ],
   "metadata": {
    "collapsed": false
   }
  },
  {
   "cell_type": "markdown",
   "source": [
    "### Score"
   ],
   "metadata": {
    "collapsed": false
   }
  },
  {
   "cell_type": "code",
   "execution_count": 9,
   "outputs": [],
   "source": [
    "[YYZ_UpperLatBound, YYZ_BottomLatBound, YYZ_LeftLongBound, YYZ_RightLongBound] = getBounds(tcdsbSchools['lat'], tcdsbSchools['long'], 4)"
   ],
   "metadata": {
    "collapsed": false
   }
  },
  {
   "cell_type": "code",
   "execution_count": 10,
   "outputs": [],
   "source": [
    "YYZ_GridPoints = generateGridScores(tcdsbSchools, YYZ_UpperLatBound, YYZ_BottomLatBound, YYZ_LeftLongBound, YYZ_RightLongBound)"
   ],
   "metadata": {
    "collapsed": false
   }
  },
  {
   "cell_type": "markdown",
   "source": [
    "### Export"
   ],
   "metadata": {
    "collapsed": false
   }
  },
  {
   "cell_type": "code",
   "execution_count": 11,
   "outputs": [],
   "source": [
    "def exportScoresToCsv(gridPoints, name):\n",
    "    filepath = Path('../res/grid_points/' + name + '.csv')\n",
    "    filepath.parent.mkdir(parents=True, exist_ok=True)\n",
    "    gridPoints.to_csv(filepath)"
   ],
   "metadata": {
    "collapsed": false
   }
  },
  {
   "cell_type": "code",
   "execution_count": 12,
   "outputs": [],
   "source": [
    "def exportDataFrameToCoordsTxt(dataFrame, name):\n",
    "    with open(name + '_coords.txt', 'w') as f:\n",
    "        for lat in dataFrame['lat']:\n",
    "            f.write(str(lat))\n",
    "            f.write(',')\n",
    "    f.write(\"\\n\")\n",
    "    for long in dataFrame['long']:\n",
    "        f.write(str(long))\n",
    "        f.write(',')"
   ],
   "metadata": {
    "collapsed": false
   }
  },
  {
   "cell_type": "code",
   "execution_count": 13,
   "outputs": [],
   "source": [
    "exportScoresToCsv(YYZ_GridPoints, 'yyz_grid_points')"
   ],
   "metadata": {
    "collapsed": false
   }
  },
  {
   "cell_type": "code",
   "execution_count": 13,
   "outputs": [],
   "source": [],
   "metadata": {
    "collapsed": false
   }
  }
 ],
 "metadata": {
  "kernelspec": {
   "display_name": "Python 3",
   "language": "python",
   "name": "python3"
  },
  "language_info": {
   "codemirror_mode": {
    "name": "ipython",
    "version": 2
   },
   "file_extension": ".py",
   "mimetype": "text/x-python",
   "name": "python",
   "nbconvert_exporter": "python",
   "pygments_lexer": "ipython2",
   "version": "2.7.6"
  }
 },
 "nbformat": 4,
 "nbformat_minor": 0
}
