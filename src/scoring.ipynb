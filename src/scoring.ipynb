{
 "cells": [
  {
   "cell_type": "code",
   "execution_count": 1,
   "outputs": [],
   "source": [
    "import pandas as pd\n",
    "import ast\n",
    "from geopy.distance import geodesic\n",
    "import math\n",
    "import numpy as np\n",
    "from get_bounds import *\n",
    "from pathlib import Path"
   ],
   "metadata": {
    "collapsed": false
   }
  },
  {
   "cell_type": "markdown",
   "source": [
    "### Dataset Retrieval and Preprocessing"
   ],
   "metadata": {
    "collapsed": false
   }
  },
  {
   "cell_type": "code",
   "execution_count": 2,
   "outputs": [],
   "source": [
    "def getTCDSBSchools():\n",
    "    df = pd.read_csv('../res/datasets/schools/TCDSB_Schools.csv', sep = ',')\n",
    "    coordinates = df.drop(['_id', 'OBJECTID', 'TCDSB_CODE', 'SCH_NAME','ADDRESS_FULL', 'MUNICIPALITY', 'POSTAL_CODE', 'TCDSB_LEVEL', 'STATUS'], axis = 1)\n",
    "    coordinates = coordinates['geometry'].astype('str')\n",
    "    coordinates = coordinates.apply(lambda x: ast.literal_eval(x))\n",
    "    coordinates = coordinates.apply(pd.Series)\n",
    "    lat = coordinates['coordinates'].apply(lambda x: x[1])\n",
    "    long = coordinates['coordinates'].apply(lambda x: x[0])\n",
    "    return pd.DataFrame(data={'name':df['SCH_NAME'], 'type': 'tcdsb', 'lat': lat, 'long': long})\n",
    "\n",
    "tcdsbSchools = getTCDSBSchools()"
   ],
   "metadata": {
    "collapsed": false
   }
  },
  {
   "cell_type": "code",
   "execution_count": 3,
   "outputs": [],
   "source": [
    "def getRestaurants():\n",
    "    df = pd.read_csv('../res/datasets/csv/restaurant.csv', sep = ',', header=None, names=['lat', 'long', 'name'])\n",
    "    df['type'] = 'restaurant'\n",
    "    return df\n",
    "\n",
    "restaurants = getRestaurants()"
   ],
   "metadata": {
    "collapsed": false
   }
  },
  {
   "cell_type": "code",
   "execution_count": 4,
   "outputs": [],
   "source": [
    "def getCommunityCentres():\n",
    "    df = pd.read_csv('../res/datasets/csv/community_centre.csv', sep = ',', header=None, names=['lat', 'long', 'name'])\n",
    "    df['type'] = 'community_centre'\n",
    "    return df\n",
    "\n",
    "community_centres = getCommunityCentres()"
   ],
   "metadata": {
    "collapsed": false
   }
  },
  {
   "cell_type": "code",
   "execution_count": 5,
   "outputs": [],
   "source": [
    "def getFoodCourts():\n",
    "    df = pd.read_csv('../res/datasets/csv/food_court.csv', sep = ',', header=None, names=['lat', 'long', 'name'])\n",
    "    df['type'] = 'food_court'\n",
    "    return df\n",
    "\n",
    "food_courts = getFoodCourts()"
   ],
   "metadata": {
    "collapsed": false
   }
  },
  {
   "cell_type": "code",
   "execution_count": 6,
   "outputs": [],
   "source": [
    "def getLibraries():\n",
    "    df = pd.read_csv('../res/datasets/csv/library.csv', sep = ',', header=None, names=['lat', 'long', 'name'])\n",
    "    df['type'] = 'library'\n",
    "    return df\n",
    "\n",
    "libraries = getLibraries()"
   ],
   "metadata": {
    "collapsed": false
   }
  },
  {
   "cell_type": "code",
   "execution_count": 7,
   "outputs": [],
   "source": [
    "def getUniversities():\n",
    "    df = pd.read_csv('../res/datasets/csv/university.csv', sep = ',', header=None, names=['lat', 'long', 'name'])\n",
    "    df['type'] = 'university'\n",
    "    return df\n",
    "\n",
    "universities = getUniversities()"
   ],
   "metadata": {
    "collapsed": false
   }
  },
  {
   "cell_type": "markdown",
   "source": [
    "### Scoring Parameters"
   ],
   "metadata": {
    "collapsed": false
   }
  },
  {
   "cell_type": "code",
   "execution_count": 8,
   "outputs": [],
   "source": [
    "STD_DEV = 0.6\n",
    "PT_DENSITY = 50\n",
    "SCORE_MIN_THRESHOLD = 0.1"
   ],
   "metadata": {
    "collapsed": false
   }
  },
  {
   "cell_type": "markdown",
   "source": [
    "### Scoring Functions"
   ],
   "metadata": {
    "collapsed": false
   }
  },
  {
   "cell_type": "code",
   "execution_count": 9,
   "outputs": [],
   "source": [
    "def getDistance(origin, stationCor):\n",
    "    return abs(geodesic(origin, stationCor).meters/1000)"
   ],
   "metadata": {
    "collapsed": false
   }
  },
  {
   "cell_type": "code",
   "execution_count": 10,
   "outputs": [],
   "source": [
    "def score(latStation, longStation, latOrigin, longOrigin, stdDev):\n",
    "\n",
    "    stationCor = (latStation, longStation)\n",
    "\n",
    "    totalScore = 0\n",
    "\n",
    "    for Lat, Long in zip(latOrigin, longOrigin):\n",
    "        origin = (Lat, Long)\n",
    "        r = getDistance(origin, stationCor)\n",
    "        # this score function simply uses the traditional gaussian distribution formula,\n",
    "        # except it extracts all the common parts to be multiplied last for efficiency.\n",
    "        score =  math.exp(-0.5*((r**2) / (stdDev**2)))\n",
    "        totalScore += score\n",
    "\n",
    "    #adjustFactor = 210 * 0.9974\n",
    "    #totalScore = (totalScorePre/adjustFactor)*100\n",
    "\n",
    "    # Multiply common part in gaussian distribution formula\n",
    "    totalScore *= (1/(stdDev * math.sqrt(2 * math.pi)))\n",
    "\n",
    "    return totalScore"
   ],
   "metadata": {
    "collapsed": false
   }
  },
  {
   "cell_type": "code",
   "execution_count": 28,
   "outputs": [],
   "source": [
    "def generateGridScores(poi, upperLatBound, bottomLatBound, leftLongBound, rightLongBound):\n",
    "    gridPoints = pd.DataFrame(columns = ['lat', 'long', 'score'])\n",
    "    latStep = round((upperLatBound-bottomLatBound)/PT_DENSITY, 4)\n",
    "    longStep = round((rightLongBound-leftLongBound)/PT_DENSITY, 4)\n",
    "\n",
    "    for lat in np.linspace(bottomLatBound, upperLatBound, num=PT_DENSITY):\n",
    "        for long in np.linspace(leftLongBound, rightLongBound, num=PT_DENSITY):\n",
    "            pointScore = score(lat, long, poi['lat'], poi['long'], STD_DEV);\n",
    "\n",
    "            pointScore = pointScore if pointScore > SCORE_MIN_THRESHOLD else 0.0;\n",
    "\n",
    "            pointScoreDict = {'lat' : [lat], 'long' : [long], 'score' : [pointScore]};\n",
    "            pointScoreDf = pd.DataFrame(data=pointScoreDict)\n",
    "            gridPoints = pd.concat([gridPoints, pointScoreDf], ignore_index = True)\n",
    "\n",
    "    return gridPoints"
   ],
   "metadata": {
    "collapsed": false
   }
  },
  {
   "cell_type": "markdown",
   "source": [
    "### Score"
   ],
   "metadata": {
    "collapsed": false
   }
  },
  {
   "cell_type": "code",
   "execution_count": 29,
   "outputs": [],
   "source": [
    "pointsOfInterest = pd.concat([tcdsbSchools, restaurants, community_centres, food_courts, libraries, universities])"
   ],
   "metadata": {
    "collapsed": false
   }
  },
  {
   "cell_type": "code",
   "execution_count": 30,
   "outputs": [],
   "source": [
    "[YYZ_UpperLatBound, YYZ_BottomLatBound, YYZ_LeftLongBound, YYZ_RightLongBound] = getBounds(pointsOfInterest['lat'], pointsOfInterest['long'], 4)"
   ],
   "metadata": {
    "collapsed": false
   }
  },
  {
   "cell_type": "code",
   "execution_count": 31,
   "outputs": [],
   "source": [
    "YYZ_GridPoints = generateGridScores(pointsOfInterest, YYZ_UpperLatBound, YYZ_BottomLatBound, YYZ_LeftLongBound, YYZ_RightLongBound)"
   ],
   "metadata": {
    "collapsed": false
   }
  },
  {
   "cell_type": "markdown",
   "source": [
    "### Export"
   ],
   "metadata": {
    "collapsed": false
   }
  },
  {
   "cell_type": "code",
   "execution_count": 24,
   "outputs": [],
   "source": [
    "def exportScoresToCsv(gridPoints, name):\n",
    "    filepath = Path('../res/grid_points/' + name + '.csv')\n",
    "    filepath.parent.mkdir(parents=True, exist_ok=True)\n",
    "    gridPoints.to_csv(filepath)"
   ],
   "metadata": {
    "collapsed": false
   }
  },
  {
   "cell_type": "code",
   "execution_count": 25,
   "outputs": [],
   "source": [
    "def exportDataFrameToCoordsTxt(dataFrame, name):\n",
    "    with open(name + '_coords.txt', 'w') as f:\n",
    "        for lat in dataFrame['lat']:\n",
    "            f.write(str(lat))\n",
    "            f.write(',')\n",
    "    f.write(\"\\n\")\n",
    "    for long in dataFrame['long']:\n",
    "        f.write(str(long))\n",
    "        f.write(',')"
   ],
   "metadata": {
    "collapsed": false
   }
  },
  {
   "cell_type": "code",
   "execution_count": 26,
   "outputs": [],
   "source": [
    "exportScoresToCsv(YYZ_GridPoints, 'yyz_grid_points')"
   ],
   "metadata": {
    "collapsed": false
   }
  }
 ],
 "metadata": {
  "kernelspec": {
   "display_name": "Python 3",
   "language": "python",
   "name": "python3"
  },
  "language_info": {
   "codemirror_mode": {
    "name": "ipython",
    "version": 2
   },
   "file_extension": ".py",
   "mimetype": "text/x-python",
   "name": "python",
   "nbconvert_exporter": "python",
   "pygments_lexer": "ipython2",
   "version": "2.7.6"
  }
 },
 "nbformat": 4,
 "nbformat_minor": 0
}
