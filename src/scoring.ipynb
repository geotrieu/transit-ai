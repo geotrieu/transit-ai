{
 "cells": [
  {
   "cell_type": "markdown",
   "source": [
    "# Points of Interest Scoring\n",
    "This notebook handles the loading of datasets and runs a scoring algorithm on a grid array"
   ],
   "metadata": {
    "collapsed": false
   }
  },
  {
   "cell_type": "code",
   "execution_count": 1,
   "outputs": [],
   "source": [
    "import pandas as pd\n",
    "import ast\n",
    "import math\n",
    "import numpy as np\n",
    "from pathlib import Path\n",
    "from get_bounds import *\n",
    "from misc_utility import *\n",
    "from plotting_utility import *"
   ],
   "metadata": {
    "collapsed": false
   }
  },
  {
   "cell_type": "markdown",
   "source": [
    "### Dataset Retrieval and Preprocessing"
   ],
   "metadata": {
    "collapsed": false
   }
  },
  {
   "cell_type": "raw",
   "source": [
    "def getTCDSBSchools():\n",
    "    df = pd.read_csv('../res/datasets/schools/TCDSB_Schools.csv', sep = ',')\n",
    "    coordinates = df.drop(['_id', 'OBJECTID', 'TCDSB_CODE', 'SCH_NAME','ADDRESS_FULL', 'MUNICIPALITY', 'POSTAL_CODE', 'TCDSB_LEVEL', 'STATUS'], axis = 1)\n",
    "    coordinates = coordinates['geometry'].astype('str')\n",
    "    coordinates = coordinates.apply(lambda x: ast.literal_eval(x))\n",
    "    coordinates = coordinates.apply(pd.Series)\n",
    "    lat = coordinates['coordinates'].apply(lambda x: x[1])\n",
    "    long = coordinates['coordinates'].apply(lambda x: x[0])\n",
    "    return pd.DataFrame(data={'name':df['SCH_NAME'], 'type': 'tcdsb', 'lat': lat, 'long': long})\n",
    "\n",
    "tcdsbSchools = getTCDSBSchools()"
   ],
   "metadata": {
    "collapsed": false
   }
  },
  {
   "cell_type": "code",
   "execution_count": 2,
   "outputs": [],
   "source": [
    "def getRestaurants(city):\n",
    "    df = pd.read_csv('../res/datasets/csv/' + city + '/restaurant.csv', sep = ',', header=None, names=['lat', 'long', 'name'])\n",
    "    df['type'] = 'restaurant'\n",
    "    return df"
   ],
   "metadata": {
    "collapsed": false
   }
  },
  {
   "cell_type": "code",
   "execution_count": 3,
   "outputs": [],
   "source": [
    "def getCommunityCentres(city):\n",
    "    df = pd.read_csv('../res/datasets/csv/' + city + '/community_centre.csv', sep = ',', header=None, names=['lat', 'long', 'name'])\n",
    "    df['type'] = 'community_centre'\n",
    "    return df"
   ],
   "metadata": {
    "collapsed": false
   }
  },
  {
   "cell_type": "code",
   "execution_count": 4,
   "outputs": [],
   "source": [
    "def getFoodCourts(city):\n",
    "    df = pd.read_csv('../res/datasets/csv/' + city + '/food_court.csv', sep = ',', header=None, names=['lat', 'long', 'name'])\n",
    "    df['type'] = 'food_court'\n",
    "    return df"
   ],
   "metadata": {
    "collapsed": false
   }
  },
  {
   "cell_type": "code",
   "execution_count": 5,
   "outputs": [],
   "source": [
    "def getLibraries(city):\n",
    "    df = pd.read_csv('../res/datasets/csv/' + city + '/library.csv', sep = ',', header=None, names=['lat', 'long', 'name'])\n",
    "    df['type'] = 'library'\n",
    "    return df"
   ],
   "metadata": {
    "collapsed": false
   }
  },
  {
   "cell_type": "code",
   "execution_count": 6,
   "outputs": [],
   "source": [
    "def getUniversities(city):\n",
    "    df = pd.read_csv('../res/datasets/csv/' + city + '/university.csv', sep = ',', header=None, names=['lat', 'long', 'name'])\n",
    "    df['type'] = 'university'\n",
    "    return df"
   ],
   "metadata": {
    "collapsed": false
   }
  },
  {
   "cell_type": "markdown",
   "source": [
    "### Scoring Parameters"
   ],
   "metadata": {
    "collapsed": false
   }
  },
  {
   "cell_type": "code",
   "execution_count": 7,
   "outputs": [],
   "source": [
    "STD_DEV = 0.6\n",
    "PT_DENSITY = 100\n",
    "SCORE_MIN_THRESHOLD = 0.01"
   ],
   "metadata": {
    "collapsed": false
   }
  },
  {
   "cell_type": "markdown",
   "source": [
    "### Scoring Functions"
   ],
   "metadata": {
    "collapsed": false
   }
  },
  {
   "cell_type": "code",
   "execution_count": 8,
   "outputs": [],
   "source": [
    "def score(latStation, longStation, latOrigin, longOrigin, stdDev):\n",
    "\n",
    "    stationCor = (latStation, longStation)\n",
    "\n",
    "    totalScore = 0\n",
    "\n",
    "    for Lat, Long in zip(latOrigin, longOrigin):\n",
    "        origin = (Lat, Long)\n",
    "        r = getDistance(origin, stationCor)\n",
    "        # this score function simply uses the traditional gaussian distribution formula,\n",
    "        # except it extracts all the common parts to be multiplied last for efficiency.\n",
    "        score =  math.exp(-0.5*((r**2) / (stdDev**2)))\n",
    "        totalScore += score\n",
    "\n",
    "    #adjustFactor = 210 * 0.9974\n",
    "    #totalScore = (totalScorePre/adjustFactor)*100\n",
    "\n",
    "    # Multiply common part in gaussian distribution formula\n",
    "    totalScore *= (1/(stdDev * math.sqrt(2 * math.pi)))\n",
    "\n",
    "    return totalScore"
   ],
   "metadata": {
    "collapsed": false
   }
  },
  {
   "cell_type": "code",
   "execution_count": 9,
   "outputs": [],
   "source": [
    "def generateGridScores(poi, std_dev, upperLatBound, bottomLatBound, leftLongBound, rightLongBound):\n",
    "    gridPoints = pd.DataFrame(columns = ['lat', 'long', 'score'])\n",
    "    latStep = round((upperLatBound-bottomLatBound)/(PT_DENSITY-1), 4)\n",
    "    longStep = round((rightLongBound-leftLongBound)/(PT_DENSITY-1), 4)\n",
    "    quarterPoint = bottomLatBound+latStep*PT_DENSITY/4\n",
    "    midPoint = bottomLatBound+latStep*PT_DENSITY/2\n",
    "    tfPoint = bottomLatBound+latStep*3*PT_DENSITY/4\n",
    "\n",
    "    for lat in np.linspace(bottomLatBound, upperLatBound, num=PT_DENSITY):\n",
    "        if (abs(lat - quarterPoint) <= 0.005):\n",
    "            print(\"25% complete\")\n",
    "        if (abs(lat - midPoint) <= 0.005):\n",
    "            print(\"50% complete\")\n",
    "        if (abs(lat - tfPoint) <= 0.005):\n",
    "            print(\"75% complete\")\n",
    "        for long in np.linspace(leftLongBound, rightLongBound, num=PT_DENSITY):\n",
    "            pointScore = score(lat, long, poi['lat'], poi['long'], std_dev);\n",
    "\n",
    "            pointScore = pointScore if pointScore > SCORE_MIN_THRESHOLD else 0.0;\n",
    "\n",
    "            pointScoreDict = {'lat' : [lat], 'long' : [long], 'score' : [pointScore]};\n",
    "            pointScoreDf = pd.DataFrame(data=pointScoreDict)\n",
    "            gridPoints = pd.concat([gridPoints, pointScoreDf], ignore_index = True)\n",
    "\n",
    "    return gridPoints"
   ],
   "metadata": {
    "collapsed": false
   }
  },
  {
   "cell_type": "markdown",
   "source": [
    "### Score"
   ],
   "metadata": {
    "collapsed": false
   }
  },
  {
   "cell_type": "code",
   "execution_count": 10,
   "outputs": [],
   "source": [
    "def scoreGridPoints(city, std_dev):\n",
    "    restaurants = getRestaurants(city)\n",
    "    community_centres = getCommunityCentres(city)\n",
    "    food_courts = getFoodCourts(city)\n",
    "    libraries = getLibraries(city)\n",
    "    universities = getUniversities(city)\n",
    "\n",
    "    pointsOfInterest = pd.concat([restaurants, community_centres, food_courts, libraries, universities])\n",
    "    [upperLatBound, bottomLatBound, leftLongBound, rightLongBound] = getBounds(pointsOfInterest['lat'], pointsOfInterest['long'], 4)\n",
    "    return generateGridScores(pointsOfInterest, std_dev, upperLatBound, bottomLatBound, leftLongBound, rightLongBound)"
   ],
   "metadata": {
    "collapsed": false
   }
  },
  {
   "cell_type": "code",
   "execution_count": 11,
   "outputs": [],
   "source": [
    "#YYZ_GridPoints = scoreGridPoints(\"toronto\", STD_DEV)\n",
    "#YVR_GridPoints = scoreGridPoints(\"vancouver\", STD_DEV)\n",
    "#YYC_GridPoints = scoreGridPoints(\"calgary\")"
   ],
   "metadata": {
    "collapsed": false
   }
  },
  {
   "cell_type": "markdown",
   "source": [
    "### Export"
   ],
   "metadata": {
    "collapsed": false
   }
  },
  {
   "cell_type": "code",
   "execution_count": 12,
   "outputs": [],
   "source": [
    "def exportScoresToCsv(gridPoints, name):\n",
    "    filepath = Path('../res/grid_points/' + name + '.csv')\n",
    "    filepath.parent.mkdir(parents=True, exist_ok=True)\n",
    "    gridPoints.to_csv(filepath)"
   ],
   "metadata": {
    "collapsed": false
   }
  },
  {
   "cell_type": "code",
   "execution_count": 13,
   "outputs": [],
   "source": [
    "def exportDataFrameToCoordsTxt(dataFrame, name):\n",
    "    with open(name + '_coords.txt', 'w') as f:\n",
    "        for lat in dataFrame['lat']:\n",
    "            f.write(str(lat))\n",
    "            f.write(',')\n",
    "    f.write(\"\\n\")\n",
    "    for long in dataFrame['long']:\n",
    "        f.write(str(long))\n",
    "        f.write(',')"
   ],
   "metadata": {
    "collapsed": false
   }
  },
  {
   "cell_type": "code",
   "execution_count": 14,
   "outputs": [],
   "source": [
    "#exportScoresToCsv(YYZ_GridPoints, 'yyz_grid_points')\n",
    "#exportScoresToCsv(YVR_GridPoints, 'yvr_grid_points')\n",
    "#exportScoresToCsv(YYC_GridPoints, 'yyc_grid_points')"
   ],
   "metadata": {
    "collapsed": false
   }
  },
  {
   "cell_type": "code",
   "execution_count": 15,
   "outputs": [],
   "source": [
    "def overnightOperation():\n",
    "    STD_DEVS = [0.4, 0.5, 0.6, 0.7, 0.8, 0.9, 0.95, 0.96, 0.97]\n",
    "    for sd in STD_DEVS:\n",
    "        YYZ_GridPoints = scoreGridPoints(\"toronto\", sd)\n",
    "        exportScoresToCsv(YYZ_GridPoints, 'yyz_grid_points_' + str(sd))\n",
    "\n",
    "        YVR_GridPoints = scoreGridPoints(\"vancouver\", sd)\n",
    "        exportScoresToCsv(YVR_GridPoints, 'yvr_grid_points_' + str(sd))\n",
    "\n",
    "        YYC_GridPoints = scoreGridPoints(\"calgary\", sd)\n",
    "        exportScoresToCsv(YYC_GridPoints, 'yyc_grid_points_' + str(sd))"
   ],
   "metadata": {
    "collapsed": false
   }
  },
  {
   "cell_type": "code",
   "execution_count": 16,
   "outputs": [],
   "source": [
    "#plotGridPoints3D(YVR_GridPoints)"
   ],
   "metadata": {
    "collapsed": false
   }
  },
  {
   "cell_type": "code",
   "execution_count": null,
   "outputs": [
    {
     "name": "stdout",
     "output_type": "stream",
     "text": [
      "25% complete\n",
      "25% complete\n",
      "25% complete\n",
      "25% complete\n",
      "50% complete\n",
      "50% complete\n",
      "50% complete\n",
      "50% complete\n",
      "75% complete\n",
      "75% complete\n",
      "75% complete\n",
      "75% complete\n",
      "25% complete\n",
      "25% complete\n",
      "25% complete\n",
      "25% complete\n",
      "25% complete\n",
      "25% complete\n",
      "25% complete\n",
      "25% complete\n",
      "25% complete\n",
      "50% complete\n",
      "50% complete\n",
      "50% complete\n",
      "50% complete\n",
      "50% complete\n",
      "50% complete\n",
      "50% complete\n",
      "50% complete\n",
      "50% complete\n",
      "75% complete\n",
      "75% complete\n",
      "75% complete\n",
      "75% complete\n",
      "75% complete\n",
      "75% complete\n",
      "75% complete\n",
      "75% complete\n",
      "75% complete\n",
      "25% complete\n",
      "25% complete\n",
      "25% complete\n",
      "50% complete\n",
      "50% complete\n",
      "50% complete\n",
      "75% complete\n",
      "75% complete\n",
      "75% complete\n",
      "25% complete\n",
      "25% complete\n",
      "25% complete\n",
      "25% complete\n",
      "50% complete\n",
      "50% complete\n",
      "50% complete\n",
      "50% complete\n",
      "75% complete\n",
      "75% complete\n",
      "75% complete\n",
      "75% complete\n",
      "25% complete\n",
      "25% complete\n",
      "25% complete\n",
      "25% complete\n",
      "25% complete\n",
      "25% complete\n",
      "25% complete\n",
      "25% complete\n",
      "25% complete\n",
      "50% complete\n",
      "50% complete\n",
      "50% complete\n",
      "50% complete\n",
      "50% complete\n",
      "50% complete\n",
      "50% complete\n",
      "50% complete\n",
      "50% complete\n",
      "75% complete\n",
      "75% complete\n",
      "75% complete\n",
      "75% complete\n",
      "75% complete\n",
      "75% complete\n",
      "75% complete\n",
      "75% complete\n",
      "75% complete\n",
      "25% complete\n",
      "25% complete\n",
      "25% complete\n",
      "50% complete\n",
      "50% complete\n",
      "50% complete\n",
      "75% complete\n",
      "75% complete\n",
      "75% complete\n",
      "25% complete\n",
      "25% complete\n",
      "25% complete\n",
      "25% complete\n",
      "50% complete\n",
      "50% complete\n",
      "50% complete\n",
      "50% complete\n",
      "75% complete\n",
      "75% complete\n",
      "75% complete\n",
      "75% complete\n",
      "25% complete\n",
      "25% complete\n",
      "25% complete\n",
      "25% complete\n",
      "25% complete\n",
      "25% complete\n",
      "25% complete\n",
      "25% complete\n",
      "25% complete\n",
      "50% complete\n",
      "50% complete\n",
      "50% complete\n",
      "50% complete\n",
      "50% complete\n",
      "50% complete\n",
      "50% complete\n",
      "50% complete\n",
      "50% complete\n",
      "75% complete\n",
      "75% complete\n",
      "75% complete\n",
      "75% complete\n",
      "75% complete\n",
      "75% complete\n",
      "75% complete\n",
      "75% complete\n",
      "75% complete\n",
      "25% complete\n",
      "25% complete\n",
      "25% complete\n",
      "50% complete\n",
      "50% complete\n",
      "50% complete\n",
      "75% complete\n",
      "75% complete\n",
      "75% complete\n"
     ]
    }
   ],
   "source": [
    "overnightOperation()"
   ],
   "metadata": {
    "collapsed": false,
    "pycharm": {
     "is_executing": true
    }
   }
  },
  {
   "cell_type": "code",
   "execution_count": null,
   "outputs": [],
   "source": [],
   "metadata": {
    "collapsed": false,
    "pycharm": {
     "is_executing": true
    }
   }
  }
 ],
 "metadata": {
  "kernelspec": {
   "display_name": "Python 3",
   "language": "python",
   "name": "python3"
  },
  "language_info": {
   "codemirror_mode": {
    "name": "ipython",
    "version": 2
   },
   "file_extension": ".py",
   "mimetype": "text/x-python",
   "name": "python",
   "nbconvert_exporter": "python",
   "pygments_lexer": "ipython2",
   "version": "2.7.6"
  }
 },
 "nbformat": 4,
 "nbformat_minor": 0
}
