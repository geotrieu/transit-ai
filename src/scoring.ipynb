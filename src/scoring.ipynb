{
 "cells": [
  {
   "cell_type": "code",
   "execution_count": 25,
   "outputs": [],
   "source": [
    "import pandas as pd\n",
    "import ast\n",
    "from geopy.distance import geodesic\n",
    "import math\n",
    "import numpy as np\n",
    "from get_bounds import *\n",
    "from pathlib import Path"
   ],
   "metadata": {
    "collapsed": false
   }
  },
  {
   "cell_type": "markdown",
   "source": [
    "### Dataset Retrieval and Preprocessing"
   ],
   "metadata": {
    "collapsed": false
   }
  },
  {
   "cell_type": "code",
   "execution_count": 19,
   "outputs": [],
   "source": [
    "def getTCDSBSchools():\n",
    "    df = pd.read_csv('../res/datasets/schools/TCDSB_Schools.csv', sep = ',')\n",
    "    coordinates = df.drop(['_id', 'OBJECTID', 'TCDSB_CODE', 'SCH_NAME','ADDRESS_FULL', 'MUNICIPALITY', 'POSTAL_CODE', 'TCDSB_LEVEL', 'STATUS'], axis = 1)\n",
    "    coordinates = coordinates['geometry'].astype('str')\n",
    "    coordinates = coordinates.apply(lambda x: ast.literal_eval(x))\n",
    "    coordinates = coordinates.apply(pd.Series)\n",
    "    lat = coordinates['coordinates'].apply(lambda x: x[1])\n",
    "    long = coordinates['coordinates'].apply(lambda x: x[0])\n",
    "    return pd.DataFrame(data={'name':df['SCH_NAME'], 'type': 'tcdsb', 'lat': lat, 'long': long})\n",
    "\n",
    "tcdsbSchools = getTCDSBSchools()"
   ],
   "metadata": {
    "collapsed": false
   }
  },
  {
   "cell_type": "code",
   "execution_count": 35,
   "outputs": [],
   "source": [
    "def getRestaurants():\n",
    "    df = pd.read_csv('../res/datasets/csv/restaurant.csv', sep = ',', header=None, names=['lat', 'long', 'name'])\n",
    "    df['type'] = 'restaurant'\n",
    "    return df\n",
    "\n",
    "restaurants = getRestaurants()"
   ],
   "metadata": {
    "collapsed": false
   }
  },
  {
   "cell_type": "code",
   "execution_count": 36,
   "outputs": [
    {
     "data": {
      "text/plain": "            lat       long                         name        type\n0     43.660201 -79.433188              The Black Briik  restaurant\n1     43.754385 -79.215960            Prague Restaurant  restaurant\n2     43.681487 -79.425824                       Pi Co.  restaurant\n3     43.655674 -79.409891          Harry's Charbroiled  restaurant\n4     43.651706 -79.409605   The Fourth Man in the Fire  restaurant\n...         ...        ...                          ...         ...\n2769  43.693111 -79.333620        Brunch On Cosburn Ave  restaurant\n2770  43.692931 -79.334458  Sophie's Sports Bar & Grill  restaurant\n2771  43.783739 -79.253209                      Freshii  restaurant\n2772  43.783710 -79.253151                    Thai Room  restaurant\n2773  43.796113 -79.419183        Daldongnae Korean BBQ  restaurant\n\n[2774 rows x 4 columns]",
      "text/html": "<div>\n<style scoped>\n    .dataframe tbody tr th:only-of-type {\n        vertical-align: middle;\n    }\n\n    .dataframe tbody tr th {\n        vertical-align: top;\n    }\n\n    .dataframe thead th {\n        text-align: right;\n    }\n</style>\n<table border=\"1\" class=\"dataframe\">\n  <thead>\n    <tr style=\"text-align: right;\">\n      <th></th>\n      <th>lat</th>\n      <th>long</th>\n      <th>name</th>\n      <th>type</th>\n    </tr>\n  </thead>\n  <tbody>\n    <tr>\n      <th>0</th>\n      <td>43.660201</td>\n      <td>-79.433188</td>\n      <td>The Black Briik</td>\n      <td>restaurant</td>\n    </tr>\n    <tr>\n      <th>1</th>\n      <td>43.754385</td>\n      <td>-79.215960</td>\n      <td>Prague Restaurant</td>\n      <td>restaurant</td>\n    </tr>\n    <tr>\n      <th>2</th>\n      <td>43.681487</td>\n      <td>-79.425824</td>\n      <td>Pi Co.</td>\n      <td>restaurant</td>\n    </tr>\n    <tr>\n      <th>3</th>\n      <td>43.655674</td>\n      <td>-79.409891</td>\n      <td>Harry's Charbroiled</td>\n      <td>restaurant</td>\n    </tr>\n    <tr>\n      <th>4</th>\n      <td>43.651706</td>\n      <td>-79.409605</td>\n      <td>The Fourth Man in the Fire</td>\n      <td>restaurant</td>\n    </tr>\n    <tr>\n      <th>...</th>\n      <td>...</td>\n      <td>...</td>\n      <td>...</td>\n      <td>...</td>\n    </tr>\n    <tr>\n      <th>2769</th>\n      <td>43.693111</td>\n      <td>-79.333620</td>\n      <td>Brunch On Cosburn Ave</td>\n      <td>restaurant</td>\n    </tr>\n    <tr>\n      <th>2770</th>\n      <td>43.692931</td>\n      <td>-79.334458</td>\n      <td>Sophie's Sports Bar &amp; Grill</td>\n      <td>restaurant</td>\n    </tr>\n    <tr>\n      <th>2771</th>\n      <td>43.783739</td>\n      <td>-79.253209</td>\n      <td>Freshii</td>\n      <td>restaurant</td>\n    </tr>\n    <tr>\n      <th>2772</th>\n      <td>43.783710</td>\n      <td>-79.253151</td>\n      <td>Thai Room</td>\n      <td>restaurant</td>\n    </tr>\n    <tr>\n      <th>2773</th>\n      <td>43.796113</td>\n      <td>-79.419183</td>\n      <td>Daldongnae Korean BBQ</td>\n      <td>restaurant</td>\n    </tr>\n  </tbody>\n</table>\n<p>2774 rows × 4 columns</p>\n</div>"
     },
     "execution_count": 36,
     "metadata": {},
     "output_type": "execute_result"
    }
   ],
   "source": [
    "restaurants"
   ],
   "metadata": {
    "collapsed": false
   }
  },
  {
   "cell_type": "markdown",
   "source": [
    "### Scoring Parameters"
   ],
   "metadata": {
    "collapsed": false
   }
  },
  {
   "cell_type": "code",
   "execution_count": 37,
   "outputs": [],
   "source": [
    "STD_DEV = 0.6\n",
    "PT_DENSITY = 50\n",
    "SCORE_MIN_THRESHOLD = 0.1"
   ],
   "metadata": {
    "collapsed": false
   }
  },
  {
   "cell_type": "markdown",
   "source": [
    "### Scoring Functions"
   ],
   "metadata": {
    "collapsed": false
   }
  },
  {
   "cell_type": "code",
   "execution_count": 14,
   "outputs": [],
   "source": [
    "def getDistance(origin, stationCor):\n",
    "    return abs(geodesic(origin, stationCor).meters/1000)"
   ],
   "metadata": {
    "collapsed": false
   }
  },
  {
   "cell_type": "code",
   "execution_count": 23,
   "outputs": [],
   "source": [
    "def score(latStation, longStation, latOrigin, longOrigin, stdDev):\n",
    "\n",
    "    stationCor = (latStation, longStation)\n",
    "\n",
    "    totalScore = 0\n",
    "\n",
    "    for Lat, Long in zip(latOrigin, longOrigin):\n",
    "        origin = (Lat, Long)\n",
    "        r = getDistance(origin, stationCor)\n",
    "        # this score function simply uses the traditional gaussian distribution formula,\n",
    "        # except it extracts all the common parts to be multiplied last for efficiency.\n",
    "        score =  math.exp(-0.5*((r**2) / (stdDev**2)))\n",
    "        totalScore += score\n",
    "\n",
    "    #adjustFactor = 210 * 0.9974\n",
    "    #totalScore = (totalScorePre/adjustFactor)*100\n",
    "\n",
    "    # Multiply common part in gaussian distribution formula\n",
    "    totalScore *= (1/(stdDev * math.sqrt(2 * math.pi)))\n",
    "\n",
    "    return totalScore"
   ],
   "metadata": {
    "collapsed": false
   }
  },
  {
   "cell_type": "code",
   "execution_count": 17,
   "outputs": [],
   "source": [
    "def generateGridScores(poi, upperLatBound, bottomLatBound, leftLongBound, rightLongBound):\n",
    "    gridPoints = pd.DataFrame(columns = ['lat', 'long', 'score'])\n",
    "    latStep = round((upperLatBound-bottomLatBound)/PT_DENSITY, 4)\n",
    "    longStep = round((rightLongBound-leftLongBound)/PT_DENSITY, 4)\n",
    "\n",
    "    for lat in np.arange(bottomLatBound, upperLatBound, latStep):\n",
    "        for long in np.arange(leftLongBound, rightLongBound, longStep):\n",
    "            pointScore = score(lat, long, poi['lat'], poi['long'], STD_DEV);\n",
    "\n",
    "            pointScore = pointScore if pointScore > SCORE_MIN_THRESHOLD else 0.0;\n",
    "\n",
    "            pointScoreDict = {'lat' : [lat], 'long' : [long], 'score' : [pointScore]};\n",
    "            pointScoreDf = pd.DataFrame(data=pointScoreDict)\n",
    "            gridPoints = pd.concat([gridPoints, pointScoreDf], ignore_index = True)\n",
    "\n",
    "    return gridPoints"
   ],
   "metadata": {
    "collapsed": false
   }
  },
  {
   "cell_type": "markdown",
   "source": [
    "### Score"
   ],
   "metadata": {
    "collapsed": false
   }
  },
  {
   "cell_type": "code",
   "execution_count": 47,
   "outputs": [],
   "source": [
    "pointsOfInterest = pd.concat([tcdsbSchools, restaurants])"
   ],
   "metadata": {
    "collapsed": false
   }
  },
  {
   "cell_type": "code",
   "execution_count": 48,
   "outputs": [],
   "source": [
    "[YYZ_UpperLatBound, YYZ_BottomLatBound, YYZ_LeftLongBound, YYZ_RightLongBound] = getBounds(pointsOfInterest['lat'], pointsOfInterest['long'], 4)"
   ],
   "metadata": {
    "collapsed": false
   }
  },
  {
   "cell_type": "code",
   "execution_count": 49,
   "outputs": [],
   "source": [
    "YYZ_GridPoints = generateGridScores(pointsOfInterest, YYZ_UpperLatBound, YYZ_BottomLatBound, YYZ_LeftLongBound, YYZ_RightLongBound)"
   ],
   "metadata": {
    "collapsed": false
   }
  },
  {
   "cell_type": "markdown",
   "source": [
    "### Export"
   ],
   "metadata": {
    "collapsed": false
   }
  },
  {
   "cell_type": "code",
   "execution_count": 50,
   "outputs": [],
   "source": [
    "def exportScoresToCsv(gridPoints, name):\n",
    "    filepath = Path('../res/grid_points/' + name + '.csv')\n",
    "    filepath.parent.mkdir(parents=True, exist_ok=True)\n",
    "    gridPoints.to_csv(filepath)"
   ],
   "metadata": {
    "collapsed": false
   }
  },
  {
   "cell_type": "code",
   "execution_count": 51,
   "outputs": [],
   "source": [
    "def exportDataFrameToCoordsTxt(dataFrame, name):\n",
    "    with open(name + '_coords.txt', 'w') as f:\n",
    "        for lat in dataFrame['lat']:\n",
    "            f.write(str(lat))\n",
    "            f.write(',')\n",
    "    f.write(\"\\n\")\n",
    "    for long in dataFrame['long']:\n",
    "        f.write(str(long))\n",
    "        f.write(',')"
   ],
   "metadata": {
    "collapsed": false
   }
  },
  {
   "cell_type": "code",
   "execution_count": 52,
   "outputs": [],
   "source": [
    "exportScoresToCsv(YYZ_GridPoints, 'yyz_grid_points_1')"
   ],
   "metadata": {
    "collapsed": false
   }
  },
  {
   "cell_type": "code",
   "execution_count": null,
   "outputs": [],
   "source": [],
   "metadata": {
    "collapsed": false
   }
  }
 ],
 "metadata": {
  "kernelspec": {
   "display_name": "Python 3",
   "language": "python",
   "name": "python3"
  },
  "language_info": {
   "codemirror_mode": {
    "name": "ipython",
    "version": 2
   },
   "file_extension": ".py",
   "mimetype": "text/x-python",
   "name": "python",
   "nbconvert_exporter": "python",
   "pygments_lexer": "ipython2",
   "version": "2.7.6"
  }
 },
 "nbformat": 4,
 "nbformat_minor": 0
}
