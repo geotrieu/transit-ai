{
 "cells": [
  {
   "cell_type": "code",
   "execution_count": null,
   "metadata": {},
   "outputs": [],
   "source": [
    "import numpy as np\n",
    "import pandas as pd\n",
    "from sklearn.linear_model import LinearRegression\n",
    "from sklearn.preprocessing import PolynomialFeatures\n",
    "import statistics\n",
    "from get_bounds import *\n",
    "from plotting_utility import *\n",
    "from misc_utility import *"
   ]
  },
  {
   "cell_type": "markdown",
   "metadata": {},
   "source": [
    "### Grid Points Load (output from scoring.ipynb)\n",
    "Grid Points are now scored in `scoring.ipynb`."
   ]
  },
  {
   "cell_type": "code",
   "execution_count": null,
   "metadata": {},
   "outputs": [],
   "source": [
    "YYZ_GridPoints = pd.read_csv('../res/grid_points/yyz_grid_points.csv', sep = ',')\n",
    "PT_DENSITY = len(YYZ_GridPoints[\"lat\"].unique())"
   ]
  },
  {
   "cell_type": "markdown",
   "source": [
    "### Clustered Grid Points Load (output from clustering.ipynb)\n",
    "Clustered Grid Points (a subset of Grid Points) are now scored in `clustering.ipynb`."
   ],
   "metadata": {
    "collapsed": false
   }
  },
  {
   "cell_type": "code",
   "execution_count": null,
   "outputs": [],
   "source": [
    "YYZ_Clustered_GridPoints = pd.read_csv('../res/grid_points/yyz_clustered_grid_points.csv', sep = ',')\n",
    "NUM_CLUSTERS = len(YYZ_Clustered_GridPoints[\"cluster\"].unique())"
   ],
   "metadata": {
    "collapsed": false
   }
  },
  {
   "cell_type": "markdown",
   "metadata": {},
   "source": [
    "### Parameters"
   ]
  },
  {
   "cell_type": "code",
   "execution_count": null,
   "metadata": {},
   "outputs": [],
   "source": [
    "INTERCHANGE_CANDIDATE_BONUS_FACTOR = 5\n",
    "POLY_REGRESSION_ORDER = 5\n",
    "NUMBER_INTERCHANGE_CANDIDATES = 3\n",
    "STATION_MIN_DISTANCE = 0.9\n",
    "INTERCHANGE_MIN_DISTANCE = 5"
   ]
  },
  {
   "cell_type": "markdown",
   "source": [
    "### Filtering and Processing"
   ],
   "metadata": {
    "collapsed": false
   }
  },
  {
   "cell_type": "code",
   "execution_count": null,
   "outputs": [],
   "source": [
    "def trimOutOfBounds(points, upperLatBound, bottomLatBound, leftLongBound, rightLongBound):\n",
    "    df = pd.DataFrame({'lat': points[0], 'long': points[1]})\n",
    "    df = df.loc[(df['lat'] >= bottomLatBound) & (df['lat'] <= upperLatBound) & (df['long'] >= leftLongBound) & (df['long'] <= rightLongBound)]\n",
    "    return (df['lat'].values, df['long'].values)"
   ],
   "metadata": {
    "collapsed": false
   }
  },
  {
   "cell_type": "code",
   "execution_count": null,
   "outputs": [],
   "source": [
    "def snapLongToGrid(points, leftLongBound, rightLongBound):\n",
    "    step = round((rightLongBound-leftLongBound)/(PT_DENSITY-1), 4)\n",
    "    pointsDf = pd.DataFrame({'lat': points[0], 'long': points[1]})\n",
    "    for index, row in pointsDf.iterrows():\n",
    "        pointsDf.at[index, 'long'] = pointsDf.at[index, 'long'] - ((pointsDf.at[index, 'long'] - leftLongBound) % step)\n",
    "    return (pointsDf['lat'].values, pointsDf['long'].values)"
   ],
   "metadata": {
    "collapsed": false
   }
  },
  {
   "cell_type": "markdown",
   "source": [
    "### Regression"
   ],
   "metadata": {
    "collapsed": false
   }
  },
  {
   "cell_type": "code",
   "execution_count": null,
   "outputs": [],
   "source": [
    "def linearRegression(scores):\n",
    "    # step 1: don't use points that are very small (threshold)\n",
    "    threshold = statistics.median(scores['score'])\n",
    "    thresholded_scores = scores.loc[scores['score'] >= threshold]\n",
    "    #print(thresholded_scores)\n",
    "\n",
    "    regr = LinearRegression()\n",
    "    lats = thresholded_scores[\"lat\"].values.reshape(-1, 1)\n",
    "    longs = thresholded_scores[\"long\"].values.reshape(-1, 1)\n",
    "    regr.fit(lats, longs, thresholded_scores[\"score\"]) # Score is Squared because sample_weight is square rooted thresholded_scores[\"score\"]\n",
    "    x_begin = lats[0]\n",
    "    x_end = lats[-1]\n",
    "    y_begin = regr.predict(x_begin.reshape(1, -1)).item()\n",
    "    y_end = regr.predict(x_end.reshape(1, -1)).item()\n",
    "\n",
    "    return (x_begin.item(), x_end.item(), y_begin, y_end)"
   ],
   "metadata": {
    "collapsed": false
   }
  },
  {
   "cell_type": "code",
   "execution_count": null,
   "outputs": [],
   "source": [
    "def polynomialRegression(scores, degree, upperLatBound, bottomLatBound):\n",
    "    poly = PolynomialFeatures(degree, include_bias=False)\n",
    "    poly_features = poly.fit_transform(scores[\"lat\"].values.reshape(-1, 1))\n",
    "    poly_reg_model = LinearRegression().fit(poly_features, scores[\"long\"], scores[\"score\"])\n",
    "    # = scores['lat'].unique()\n",
    "    x = np.linspace(scores['lat'].min(), scores['lat'].max(), PT_DENSITY)\n",
    "    #x = np.arange(bottomLatBound, upperLatBound, round((upperLatBound-bottomLatBound)/PT_DENSITY, 4))\n",
    "    y = poly_reg_model.predict(poly.fit_transform(x.reshape(-1, 1)))\n",
    "    return (x, y, poly_reg_model.intercept_, poly_reg_model.coef_)"
   ],
   "metadata": {
    "collapsed": false
   }
  },
  {
   "cell_type": "code",
   "execution_count": null,
   "outputs": [],
   "source": [
    "def getLine(scores, upper, bottom, left, right):\n",
    "    [*line, line_intercept, line_coefficients] = polynomialRegression(scores, POLY_REGRESSION_ORDER, upper, bottom)\n",
    "    line = trimOutOfBounds(line, upper, bottom, left, right)\n",
    "    line = snapLongToGrid(line, left, right)\n",
    "    return (line, line_intercept, line_coefficients)"
   ],
   "metadata": {
    "collapsed": false
   }
  },
  {
   "cell_type": "markdown",
   "source": [
    "### Query Functions"
   ],
   "metadata": {
    "collapsed": false
   }
  },
  {
   "cell_type": "code",
   "execution_count": null,
   "outputs": [],
   "source": [
    "# Gets the points associated with the n highest scores of the line, separated by at least dist\n",
    "# Does not guarantee that n highest scores will be returned, if restricted by dist. Guarantees at MOST n scores returned.\n",
    "def getHighestNScorePointsWithMinDist(pts, n, dist):\n",
    "    sortedPoints = pts.sort_values(by=['score'], ascending=False)\n",
    "    highestPoints = pd.DataFrame()\n",
    "\n",
    "    # initialization\n",
    "    highestPoints = highestPoints.append(sortedPoints.iloc[0])\n",
    "\n",
    "    for idx, p in sortedPoints.iterrows():\n",
    "        if len(highestPoints) >= n:\n",
    "            break\n",
    "\n",
    "        previousPoint = (highestPoints.iloc[-1][\"lat\"], highestPoints.iloc[-1][\"long\"])\n",
    "        currentPoint = (p[\"lat\"], p[\"long\"])\n",
    "        delta = getDistance(previousPoint, currentPoint)\n",
    "\n",
    "        if delta >= dist:\n",
    "            highestPoints = highestPoints.append(p)\n",
    "\n",
    "    return highestPoints"
   ],
   "metadata": {
    "collapsed": false
   }
  },
  {
   "cell_type": "code",
   "execution_count": null,
   "outputs": [],
   "source": [
    "def getGridPointsFromLine(scores, line):\n",
    "    numPoints = len(line[0])\n",
    "    lineGridPoints = pd.DataFrame()\n",
    "\n",
    "    for index in range(0, numPoints):\n",
    "        lati = line[0][index]\n",
    "        longi = line[1][index]\n",
    "\n",
    "        scoreIndex = scores.loc[(abs(scores[\"lat\"] - lati) <= 0.005) & (abs(scores[\"long\"] - longi) <= 0.005)].index.values\n",
    "        if len(scoreIndex) > 0:\n",
    "            lineGridPoints = lineGridPoints.append(scores.iloc[scoreIndex[0]])\n",
    "\n",
    "    return lineGridPoints"
   ],
   "metadata": {
    "collapsed": false
   }
  },
  {
   "cell_type": "markdown",
   "source": [
    "### Line Generation"
   ],
   "metadata": {
    "collapsed": false
   }
  },
  {
   "cell_type": "code",
   "execution_count": null,
   "outputs": [],
   "source": [
    "# This function generates the lines for the system, and returns the lines in [[lats], [longs]] format\n",
    "# Also returns the interchange candidates (what possibly can be an interchange) as an array of DataFrames\n",
    "def generateLines(gridPoints, clusterGridPointsArray, upperBound, bottomBound, leftBound, rightBound):\n",
    "    lines = []\n",
    "    interchangeCandidates = []\n",
    "    for i in range(NUM_CLUSTERS):\n",
    "        clusterGridPointsArray[i] = clusterGridPointsArray[i].append(interchangeCandidates)\n",
    "        [line, _, _] = getLine(clusterGridPointsArray[i], upperBound, bottomBound, leftBound, rightBound)\n",
    "        lines.append(line)\n",
    "        linePoints = getGridPointsFromLine(gridPoints, line)\n",
    "        highestPoints = getHighestNScorePointsWithMinDist(linePoints, NUMBER_INTERCHANGE_CANDIDATES, INTERCHANGE_MIN_DISTANCE)\n",
    "        highestPoints = highestPoints.assign(score=highestPoints['score'] * INTERCHANGE_CANDIDATE_BONUS_FACTOR)\n",
    "        interchangeCandidates.append(highestPoints)\n",
    "\n",
    "        # Code to plot how the subway system is built\n",
    "        interchangeCandidatePoints = [(pd.concat(interchangeCandidates)[\"lat\"].to_numpy(), pd.concat(interchangeCandidates)[\"long\"].to_numpy())]\n",
    "        plotHeatmapPoints(gridPoints, lines + interchangeCandidatePoints, PT_DENSITY)\n",
    "    return (lines, interchangeCandidates)"
   ],
   "metadata": {
    "collapsed": false
   }
  },
  {
   "cell_type": "code",
   "execution_count": null,
   "outputs": [],
   "source": [
    "def splitGridPointsByClusters(gridPointsWithCluster):\n",
    "    gridPointClusterArray = []\n",
    "    for i in range(NUM_CLUSTERS):\n",
    "        gridPointClusterArray.append(gridPointsWithCluster.loc[gridPointsWithCluster['cluster'] == i])\n",
    "    return gridPointClusterArray"
   ],
   "metadata": {
    "collapsed": false
   }
  },
  {
   "cell_type": "markdown",
   "source": [
    "### Station Generation"
   ],
   "metadata": {
    "collapsed": false
   }
  },
  {
   "cell_type": "code",
   "execution_count": null,
   "outputs": [],
   "source": [
    "# This function generates the stations for a line and returns them in an array\n",
    "#line numbers are 0 indexed\n",
    "#distance in km\n",
    "def generateStationsOnLine(statDistance, subwayLines, lineNum):\n",
    "    stations = []\n",
    "    size = len(subwayLines[lineNum][0])\n",
    "\n",
    "    lati = subwayLines[lineNum][0][0]\n",
    "    longi = subwayLines[lineNum][1][0]\n",
    "\n",
    "    stationCor = (lati, longi)\n",
    "    placeStation = stationCor\n",
    "\n",
    "    d = {'lat': [lati], 'long': [longi]}\n",
    "    df = pd.DataFrame(data=d)\n",
    "\n",
    "    for index in range(0, size - 1):\n",
    "\n",
    "        lati2 = subwayLines[lineNum][0][index + 1]\n",
    "        longi2 = subwayLines[lineNum][1][index + 1]\n",
    "\n",
    "        nextStation = (lati2, longi2)\n",
    "\n",
    "        distance = getDistance(nextStation, placeStation)\n",
    "\n",
    "        if distance >= statDistance:\n",
    "\n",
    "            new_row = {'lat': lati2, 'long': longi2}\n",
    "            df = df.append(new_row, ignore_index=True)\n",
    "\n",
    "            placeStation = nextStation\n",
    "\n",
    "\n",
    "    #convert data frame to numpy array to append to list so we can plot\n",
    "    lineStat = (df['lat'].values, df['long'].values)\n",
    "\n",
    "    stations.append(lineStat)\n",
    "\n",
    "    #return the new set of points\n",
    "    return stations"
   ],
   "metadata": {
    "collapsed": false
   }
  },
  {
   "cell_type": "code",
   "execution_count": null,
   "outputs": [],
   "source": [
    "#lineNum is not 0 indexed\n",
    "def generateStationsInSystem(statDistance):\n",
    "    stationsInSystem = []\n",
    "    for idx in range(0, NUM_CLUSTERS):\n",
    "        stationsInSystem += generateStationsOnLine(statDistance,YYZ_Lines, idx)\n",
    "    return stationsInSystem"
   ],
   "metadata": {
    "collapsed": false
   }
  },
  {
   "cell_type": "markdown",
   "source": [
    "### Toronto (YYZ)"
   ],
   "metadata": {
    "collapsed": false
   }
  },
  {
   "cell_type": "code",
   "execution_count": null,
   "outputs": [],
   "source": [
    "[YYZ_UpperLatBound, YYZ_BottomLatBound, YYZ_LeftLongBound, YYZ_RightLongBound] = getBounds(YYZ_GridPoints['lat'], YYZ_GridPoints['long'], 4)"
   ],
   "metadata": {
    "collapsed": false
   }
  },
  {
   "cell_type": "code",
   "execution_count": null,
   "outputs": [],
   "source": [
    "# YYZ_Cluster_GP_Array is an array with each line being its own cluster's grid points\n",
    "YYZ_Cluster_GP_Array = splitGridPointsByClusters(YYZ_Clustered_GridPoints)"
   ],
   "metadata": {
    "collapsed": false
   }
  },
  {
   "cell_type": "code",
   "execution_count": null,
   "outputs": [],
   "source": [
    "YYZ_Lines, YYZ_Interchange_Candidates = generateLines(\n",
    "    YYZ_GridPoints, YYZ_Cluster_GP_Array, YYZ_UpperLatBound, YYZ_BottomLatBound, YYZ_LeftLongBound, YYZ_RightLongBound\n",
    ")"
   ],
   "metadata": {
    "collapsed": false
   }
  },
  {
   "cell_type": "code",
   "execution_count": null,
   "outputs": [],
   "source": [
    "# Draw the System\n",
    "interchangeCandidatePoints = [(pd.concat(YYZ_Interchange_Candidates)[\"lat\"].to_numpy(), pd.concat(YYZ_Interchange_Candidates)[\"long\"].to_numpy())]\n",
    "plotHeatmapPoints(YYZ_GridPoints, YYZ_Lines + interchangeCandidatePoints, PT_DENSITY)"
   ],
   "metadata": {
    "collapsed": false
   }
  },
  {
   "cell_type": "code",
   "execution_count": null,
   "outputs": [],
   "source": [
    "YYZ_Stations = generateStationsInSystem(STATION_MIN_DISTANCE)"
   ],
   "metadata": {
    "collapsed": false
   }
  },
  {
   "cell_type": "code",
   "execution_count": null,
   "outputs": [],
   "source": [
    "plotHeatmapPoints(YYZ_GridPoints, YYZ_Stations, PT_DENSITY)"
   ],
   "metadata": {
    "collapsed": false
   }
  },
  {
   "cell_type": "markdown",
   "source": [
    "### Export Cells"
   ],
   "metadata": {
    "collapsed": false
   }
  },
  {
   "cell_type": "raw",
   "source": [
    "with open('coords.txt', 'w') as f:\n",
    "    f.write(\"----------LATS-------\\n\")\n",
    "    for line in YYZ_Lines:\n",
    "        f.write(\"[\")\n",
    "        for lat in line[0]:\n",
    "            f.write(str(lat))\n",
    "            f.write(',')\n",
    "        f.write(\"],\")\n",
    "        f.write(\"\\n\")\n",
    "    f.write(\"----------LONGS-------\\n\")\n",
    "    for line in YYZ_Lines:\n",
    "        f.write(\"[\")\n",
    "        for long in line[1]:\n",
    "            f.write(str(long))\n",
    "            f.write(',')\n",
    "        f.write(\"],\")\n",
    "        f.write(\"\\n\")"
   ],
   "metadata": {
    "collapsed": false
   }
  }
 ],
 "metadata": {
  "kernelspec": {
   "display_name": "Python 3",
   "language": "python",
   "name": "python3"
  },
  "language_info": {
   "codemirror_mode": {
    "name": "ipython",
    "version": 3
   },
   "file_extension": ".py",
   "mimetype": "text/x-python",
   "name": "python",
   "nbconvert_exporter": "python",
   "pygments_lexer": "ipython3",
   "version": "3.8.8"
  },
  "vscode": {
   "interpreter": {
    "hash": "c2bb28fb50d347e19385f7173bf37f33bb6996834ac42484f7165bec0c7f1cbb"
   }
  }
 },
 "nbformat": 4,
 "nbformat_minor": 4
}
