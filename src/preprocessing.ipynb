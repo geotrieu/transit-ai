{
 "cells": [
  {
   "cell_type": "code",
   "execution_count": 16,
   "metadata": {},
   "outputs": [],
   "source": [
    "import numpy as np\n",
    "import pandas as pd\n",
    "from sklearn.linear_model import LinearRegression\n",
    "from sklearn.preprocessing import PolynomialFeatures\n",
    "import statistics\n",
    "from get_bounds import *\n",
    "from plotting_utility import *"
   ]
  },
  {
   "cell_type": "markdown",
   "metadata": {},
   "source": [
    "### Grid Points Load (output from scoring.ipynb)\n",
    "Grid Points are now scored in `scoring.ipynb`."
   ]
  },
  {
   "cell_type": "code",
   "execution_count": 17,
   "metadata": {},
   "outputs": [],
   "source": [
    "YYZ_GridPoints = pd.read_csv('../res/grid_points/yyz_grid_points.csv', sep = ',')\n",
    "PT_DENSITY = len(YYZ_GridPoints[\"lat\"].unique())"
   ]
  },
  {
   "cell_type": "markdown",
   "source": [
    "### Clustered Grid Points Load (output from clustering.ipynb)\n",
    "Clustered Grid Points (a subset of Grid Points) are now scored in `clustering.ipynb`."
   ],
   "metadata": {
    "collapsed": false
   }
  },
  {
   "cell_type": "code",
   "execution_count": 18,
   "outputs": [],
   "source": [
    "YYZ_Clustered_GridPoints = pd.read_csv('../res/grid_points/yyz_clustered_grid_points.csv', sep = ',')\n",
    "NUM_CLUSTERS = len(YYZ_Clustered_GridPoints[\"cluster\"].unique())"
   ],
   "metadata": {
    "collapsed": false
   }
  },
  {
   "cell_type": "markdown",
   "metadata": {},
   "source": [
    "### Parameters"
   ]
  },
  {
   "cell_type": "code",
   "execution_count": 19,
   "metadata": {},
   "outputs": [],
   "source": [
    "INTERCHANGE_CANDIDATE_BONUS_FACTOR = 5\n",
    "POLY_REGRESSION_ORDER = 5"
   ]
  },
  {
   "cell_type": "markdown",
   "source": [
    "### Filtering and Processing"
   ],
   "metadata": {
    "collapsed": false
   }
  },
  {
   "cell_type": "code",
   "execution_count": 20,
   "outputs": [],
   "source": [
    "def trimOutOfBounds(points, upperLatBound, bottomLatBound, leftLongBound, rightLongBound):\n",
    "    df = pd.DataFrame({'lat': points[0], 'long': points[1]})\n",
    "    df = df.loc[(df['lat'] >= bottomLatBound) & (df['lat'] <= upperLatBound) & (df['long'] >= leftLongBound) & (df['long'] <= rightLongBound)]\n",
    "    return (df['lat'].values, df['long'].values)"
   ],
   "metadata": {
    "collapsed": false
   }
  },
  {
   "cell_type": "code",
   "execution_count": 21,
   "outputs": [],
   "source": [
    "def snapLongToGrid(points, leftLongBound, rightLongBound):\n",
    "    step = round((rightLongBound-leftLongBound)/(PT_DENSITY-1), 4)\n",
    "    pointsDf = pd.DataFrame({'lat': points[0], 'long': points[1]})\n",
    "    for index, row in pointsDf.iterrows():\n",
    "        pointsDf.at[index, 'long'] = pointsDf.at[index, 'long'] - ((pointsDf.at[index, 'long'] - leftLongBound) % step)\n",
    "    return (pointsDf['lat'].values, pointsDf['long'].values)"
   ],
   "metadata": {
    "collapsed": false
   }
  },
  {
   "cell_type": "markdown",
   "source": [
    "### Regression"
   ],
   "metadata": {
    "collapsed": false
   }
  },
  {
   "cell_type": "code",
   "execution_count": 22,
   "outputs": [],
   "source": [
    "def linearRegression(scores):\n",
    "    # step 1: don't use points that are very small (threshold)\n",
    "    threshold = statistics.median(scores['score'])\n",
    "    thresholded_scores = scores.loc[scores['score'] >= threshold]\n",
    "    #print(thresholded_scores)\n",
    "\n",
    "    regr = LinearRegression()\n",
    "    lats = thresholded_scores[\"lat\"].values.reshape(-1, 1)\n",
    "    longs = thresholded_scores[\"long\"].values.reshape(-1, 1)\n",
    "    regr.fit(lats, longs, thresholded_scores[\"score\"]) # Score is Squared because sample_weight is square rooted thresholded_scores[\"score\"]\n",
    "    x_begin = lats[0]\n",
    "    x_end = lats[-1]\n",
    "    y_begin = regr.predict(x_begin.reshape(1, -1)).item()\n",
    "    y_end = regr.predict(x_end.reshape(1, -1)).item()\n",
    "\n",
    "    return (x_begin.item(), x_end.item(), y_begin, y_end)"
   ],
   "metadata": {
    "collapsed": false
   }
  },
  {
   "cell_type": "code",
   "execution_count": 23,
   "outputs": [],
   "source": [
    "def polynomialRegression(scores, degree, upperLatBound, bottomLatBound):\n",
    "    poly = PolynomialFeatures(degree, include_bias=False)\n",
    "    poly_features = poly.fit_transform(scores[\"lat\"].values.reshape(-1, 1))\n",
    "    poly_reg_model = LinearRegression().fit(poly_features, scores[\"long\"], scores[\"score\"])\n",
    "    # = scores['lat'].unique()\n",
    "    x = np.linspace(scores['lat'].min(), scores['lat'].max(), PT_DENSITY)\n",
    "    #x = np.arange(bottomLatBound, upperLatBound, round((upperLatBound-bottomLatBound)/PT_DENSITY, 4))\n",
    "    y = poly_reg_model.predict(poly.fit_transform(x.reshape(-1, 1)))\n",
    "    return (x, y, poly_reg_model.intercept_, poly_reg_model.coef_)"
   ],
   "metadata": {
    "collapsed": false
   }
  },
  {
   "cell_type": "code",
   "execution_count": 24,
   "outputs": [],
   "source": [
    "def getLine(scores, upper, bottom, left, right):\n",
    "    [*line, line_intercept, line_coefficients] = polynomialRegression(scores, POLY_REGRESSION_ORDER, upper, bottom)\n",
    "    line = trimOutOfBounds(line, upper, bottom, left, right)\n",
    "    line = snapLongToGrid(line, left, right)\n",
    "    return (line, line_intercept, line_coefficients)"
   ],
   "metadata": {
    "collapsed": false
   }
  },
  {
   "cell_type": "markdown",
   "source": [
    "### Query Functions"
   ],
   "metadata": {
    "collapsed": false
   }
  },
  {
   "cell_type": "code",
   "execution_count": 25,
   "outputs": [],
   "source": [
    "def getPointWithHighestScore(pts):\n",
    "    return pts[pts.score == pts.score.max()]"
   ],
   "metadata": {
    "collapsed": false
   }
  },
  {
   "cell_type": "code",
   "execution_count": 26,
   "outputs": [],
   "source": [
    "def getGridPointsFromLine(scores, line):\n",
    "    numPoints = len(line[0])\n",
    "    lineGridPoints = pd.DataFrame()\n",
    "\n",
    "    for index in range(0, numPoints):\n",
    "        lati = line[0][index]\n",
    "        longi = line[1][index]\n",
    "\n",
    "        scoreIndex = scores.loc[(abs(scores[\"lat\"] - lati) <= 0.005) & (abs(scores[\"long\"] - longi) <= 0.005)].index.values\n",
    "        if len(scoreIndex) > 0:\n",
    "            lineGridPoints = lineGridPoints.append(scores.iloc[scoreIndex[0]])\n",
    "\n",
    "    return lineGridPoints"
   ],
   "metadata": {
    "collapsed": false
   }
  },
  {
   "cell_type": "markdown",
   "source": [
    "### Line Generation"
   ],
   "metadata": {
    "collapsed": false
   }
  },
  {
   "cell_type": "code",
   "execution_count": 47,
   "outputs": [],
   "source": [
    "# This function generates the lines for the system, and returns the lines in [[lats], [longs]] format\n",
    "# Also returns the interchange candidates (what possibly can be an interchange) as an array of DataFrames\n",
    "def generateLines(gridPoints, clusterGridPointsArray, upperBound, bottomBound, leftBound, rightBound):\n",
    "    lines = []\n",
    "    interchangeCandidates = []\n",
    "    for i in range(NUM_CLUSTERS):\n",
    "        clusterGridPointsArray[i] = clusterGridPointsArray[i].append(interchangeCandidates)\n",
    "        [line, _, _] = getLine(clusterGridPointsArray[i], upperBound, bottomBound, leftBound, rightBound)\n",
    "        lines.append(line)\n",
    "        linePoints = getGridPointsFromLine(gridPoints, line)\n",
    "        interchangeCandidate = getPointWithHighestScore(linePoints)\n",
    "        interchangeCandidate = interchangeCandidate.assign(score=interchangeCandidate['score'] * INTERCHANGE_CANDIDATE_BONUS_FACTOR)\n",
    "        interchangeCandidates.append(interchangeCandidate)\n",
    "\n",
    "        # Code to plot how the subway system is built\n",
    "        #interchangeCandidatePoints = [(pd.concat(interchangeCandidates)[\"lat\"].to_numpy(), pd.concat(interchangeCandidates)[\"long\"].to_numpy())]\n",
    "        #plotHeatmapPolynomial(gridPoints, lines + interchangeCandidatePoints, PT_DENSITY)\n",
    "    return (lines, interchangeCandidates)"
   ],
   "metadata": {
    "collapsed": false
   }
  },
  {
   "cell_type": "code",
   "execution_count": 27,
   "outputs": [],
   "source": [
    "def splitGridPointsByClusters(gridPointsWithCluster):\n",
    "    gridPointClusterArray = []\n",
    "    for i in range(NUM_CLUSTERS):\n",
    "        gridPointClusterArray.append(gridPointsWithCluster.loc[gridPointsWithCluster['cluster'] == i])\n",
    "    return gridPointClusterArray"
   ],
   "metadata": {
    "collapsed": false
   }
  },
  {
   "cell_type": "markdown",
   "source": [
    "### Toronto (YYZ)"
   ],
   "metadata": {
    "collapsed": false
   }
  },
  {
   "cell_type": "code",
   "execution_count": 28,
   "outputs": [],
   "source": [
    "[YYZ_UpperLatBound, YYZ_BottomLatBound, YYZ_LeftLongBound, YYZ_RightLongBound] = getBounds(YYZ_GridPoints['lat'], YYZ_GridPoints['long'], 4)"
   ],
   "metadata": {
    "collapsed": false
   }
  },
  {
   "cell_type": "code",
   "execution_count": 29,
   "outputs": [],
   "source": [
    "# YYZ_Cluster_GP_Array is an array with each line being its own cluster's grid points\n",
    "YYZ_Cluster_GP_Array = splitGridPointsByClusters(YYZ_Clustered_GridPoints)"
   ],
   "metadata": {
    "collapsed": false
   }
  },
  {
   "cell_type": "code",
   "execution_count": 48,
   "outputs": [],
   "source": [
    "YYZ_Lines, YYZ_Interchange_Candidates = generateLines(\n",
    "    YYZ_GridPoints, YYZ_Cluster_GP_Array, YYZ_UpperLatBound, YYZ_BottomLatBound, YYZ_LeftLongBound, YYZ_RightLongBound\n",
    ")"
   ],
   "metadata": {
    "collapsed": false
   }
  },
  {
   "cell_type": "code",
   "execution_count": 49,
   "outputs": [
    {
     "data": {
      "text/plain": "<AxesSubplot:xlabel='lat', ylabel='long'>"
     },
     "execution_count": 49,
     "metadata": {},
     "output_type": "execute_result"
    },
    {
     "data": {
      "text/plain": "<Figure size 432x288 with 2 Axes>",
      "image/png": "[encoded data removed]"
     },
     "metadata": {
      "needs_background": "light"
     },
     "output_type": "display_data"
    }
   ],
   "source": [
    "# Draw the System\n",
    "interchangeCandidatePoints = [(pd.concat(YYZ_Interchange_Candidates)[\"lat\"].to_numpy(), pd.concat(YYZ_Interchange_Candidates)[\"long\"].to_numpy())]\n",
    "plotHeatmapPolynomial(YYZ_GridPoints, YYZ_Lines + interchangeCandidatePoints, PT_DENSITY)"
   ],
   "metadata": {
    "collapsed": false
   }
  },
  {
   "cell_type": "markdown",
   "source": [
    "### Export Cells"
   ],
   "metadata": {
    "collapsed": false
   }
  },
  {
   "cell_type": "code",
   "execution_count": 50,
   "outputs": [],
   "source": [
    "with open('coords.txt', 'w') as f:\n",
    "    f.write(\"----------LATS-------\\n\")\n",
    "    for line in YYZ_Lines:\n",
    "        f.write(\"[\")\n",
    "        for lat in line[0]:\n",
    "            f.write(str(lat))\n",
    "            f.write(',')\n",
    "        f.write(\"],\")\n",
    "        f.write(\"\\n\")\n",
    "    f.write(\"----------LONGS-------\\n\")\n",
    "    for line in YYZ_Lines:\n",
    "        f.write(\"[\")\n",
    "        for long in line[1]:\n",
    "            f.write(str(long))\n",
    "            f.write(',')\n",
    "        f.write(\"],\")\n",
    "        f.write(\"\\n\")"
   ],
   "metadata": {
    "collapsed": false
   }
  },
  {
   "cell_type": "markdown",
   "source": [
    "# Finding Stations"
   ],
   "metadata": {
    "collapsed": false
   }
  },
  {
   "cell_type": "code",
   "execution_count": 180,
   "outputs": [],
   "source": [
    "#line numbers are 0 indexed\n",
    "YYZ_Cx_Station = []\n",
    "\n",
    "\n",
    "def stationFinder(threshold, subwayLines, lineNum, YYZ_Cx_Station):\n",
    "    size = len(subwayLines[lineNum][0])\n",
    "    df = pd.DataFrame()\n",
    "\n",
    "    for index in range(0, size):\n",
    "\n",
    "        lati = subwayLines[lineNum][0][index]\n",
    "        longi = subwayLines[lineNum][1][index]\n",
    "\n",
    "        #print(YYZ_C_Scores.index.values)\n",
    "\n",
    "        scoreIndex = YYZ_GridPoints.loc[(abs(YYZ_GridPoints[\"lat\"] - lati) <= 0.00001) & (\n",
    "                    abs(YYZ_GridPoints[\"long\"] - longi) <= 0.00001)].index.values\n",
    "        #print(scoreIndex)\n",
    "\n",
    "        #check the score at this lat and long\n",
    "        if len(scoreIndex) > 0:\n",
    "\n",
    "            scoreInd = scoreIndex[0]\n",
    "            score = YYZ_GridPoints[\"score\"][scoreIndex]\n",
    "\n",
    "            #print(score)\n",
    "\n",
    "            #if above desire threshold add to data frame which we will then convert to numpy array\n",
    "            if score[scoreIndex][scoreInd] >= threshold:\n",
    "                #print(\"Hello\")\n",
    "                if df.empty:\n",
    "                    d = {'lat': [lati], 'long': [longi]}\n",
    "                    df = pd.DataFrame(data=d)\n",
    "                else:\n",
    "\n",
    "                    new_row = {'lat': lati, 'long': longi}\n",
    "                    df = df.append(new_row, ignore_index=True)\n",
    "\n",
    "    #convert data frame to numpy array to append to list so we can plot\n",
    "    lineStat = (df['lat'].values, df['long'].values)\n",
    "\n",
    "    YYZ_Cx_Station.append(lineStat)\n",
    "\n",
    "    #return the new set of points\n",
    "    return YYZ_Cx_Station"
   ],
   "metadata": {
    "collapsed": false
   }
  },
  {
   "cell_type": "code",
   "execution_count": 181,
   "outputs": [],
   "source": [
    "#lineNum is not 0 indexed\n",
    "def getStation(threshold, lineNum):\n",
    "    for idx in range(0, lineNum):\n",
    "        stationFinder(threshold,YYZ_Cx_Line, idx, YYZ_Cx_Station)\n",
    "    #return YYZ_Cx_Station"
   ],
   "metadata": {
    "collapsed": false
   }
  },
  {
   "cell_type": "code",
   "execution_count": 182,
   "outputs": [
    {
     "ename": "KeyError",
     "evalue": "'lat'",
     "output_type": "error",
     "traceback": [
      "\u001B[1;31m---------------------------------------------------------------------------\u001B[0m",
      "\u001B[1;31mKeyError\u001B[0m                                  Traceback (most recent call last)",
      "\u001B[1;32m~\\anaconda3\\lib\\site-packages\\pandas\\core\\indexes\\base.py\u001B[0m in \u001B[0;36mget_loc\u001B[1;34m(self, key, method, tolerance)\u001B[0m\n\u001B[0;32m   3079\u001B[0m             \u001B[1;32mtry\u001B[0m\u001B[1;33m:\u001B[0m\u001B[1;33m\u001B[0m\u001B[1;33m\u001B[0m\u001B[0m\n\u001B[1;32m-> 3080\u001B[1;33m                 \u001B[1;32mreturn\u001B[0m \u001B[0mself\u001B[0m\u001B[1;33m.\u001B[0m\u001B[0m_engine\u001B[0m\u001B[1;33m.\u001B[0m\u001B[0mget_loc\u001B[0m\u001B[1;33m(\u001B[0m\u001B[0mcasted_key\u001B[0m\u001B[1;33m)\u001B[0m\u001B[1;33m\u001B[0m\u001B[1;33m\u001B[0m\u001B[0m\n\u001B[0m\u001B[0;32m   3081\u001B[0m             \u001B[1;32mexcept\u001B[0m \u001B[0mKeyError\u001B[0m \u001B[1;32mas\u001B[0m \u001B[0merr\u001B[0m\u001B[1;33m:\u001B[0m\u001B[1;33m\u001B[0m\u001B[1;33m\u001B[0m\u001B[0m\n",
      "\u001B[1;32mpandas\\_libs\\index.pyx\u001B[0m in \u001B[0;36mpandas._libs.index.IndexEngine.get_loc\u001B[1;34m()\u001B[0m\n",
      "\u001B[1;32mpandas\\_libs\\index.pyx\u001B[0m in \u001B[0;36mpandas._libs.index.IndexEngine.get_loc\u001B[1;34m()\u001B[0m\n",
      "\u001B[1;32mpandas\\_libs\\hashtable_class_helper.pxi\u001B[0m in \u001B[0;36mpandas._libs.hashtable.PyObjectHashTable.get_item\u001B[1;34m()\u001B[0m\n",
      "\u001B[1;32mpandas\\_libs\\hashtable_class_helper.pxi\u001B[0m in \u001B[0;36mpandas._libs.hashtable.PyObjectHashTable.get_item\u001B[1;34m()\u001B[0m\n",
      "\u001B[1;31mKeyError\u001B[0m: 'lat'",
      "\nThe above exception was the direct cause of the following exception:\n",
      "\u001B[1;31mKeyError\u001B[0m                                  Traceback (most recent call last)",
      "\u001B[1;32m<ipython-input-182-030cc93a979a>\u001B[0m in \u001B[0;36m<module>\u001B[1;34m\u001B[0m\n\u001B[1;32m----> 1\u001B[1;33m \u001B[0mgetStation\u001B[0m\u001B[1;33m(\u001B[0m\u001B[1;36m0.9\u001B[0m\u001B[1;33m,\u001B[0m \u001B[1;36m5\u001B[0m\u001B[1;33m)\u001B[0m\u001B[1;33m\u001B[0m\u001B[1;33m\u001B[0m\u001B[0m\n\u001B[0m",
      "\u001B[1;32m<ipython-input-181-21197d669515>\u001B[0m in \u001B[0;36mgetStation\u001B[1;34m(threshold, lineNum)\u001B[0m\n\u001B[0;32m      2\u001B[0m \u001B[1;32mdef\u001B[0m \u001B[0mgetStation\u001B[0m\u001B[1;33m(\u001B[0m\u001B[0mthreshold\u001B[0m\u001B[1;33m,\u001B[0m \u001B[0mlineNum\u001B[0m\u001B[1;33m)\u001B[0m\u001B[1;33m:\u001B[0m\u001B[1;33m\u001B[0m\u001B[1;33m\u001B[0m\u001B[0m\n\u001B[0;32m      3\u001B[0m     \u001B[1;32mfor\u001B[0m \u001B[0midx\u001B[0m \u001B[1;32min\u001B[0m \u001B[0mrange\u001B[0m\u001B[1;33m(\u001B[0m\u001B[1;36m0\u001B[0m\u001B[1;33m,\u001B[0m \u001B[0mlineNum\u001B[0m\u001B[1;33m)\u001B[0m\u001B[1;33m:\u001B[0m\u001B[1;33m\u001B[0m\u001B[1;33m\u001B[0m\u001B[0m\n\u001B[1;32m----> 4\u001B[1;33m         \u001B[0mstationFinder\u001B[0m\u001B[1;33m(\u001B[0m\u001B[0mthreshold\u001B[0m\u001B[1;33m,\u001B[0m\u001B[0mYYZ_Cx_Line\u001B[0m\u001B[1;33m,\u001B[0m \u001B[0midx\u001B[0m\u001B[1;33m,\u001B[0m \u001B[0mYYZ_Cx_Station\u001B[0m\u001B[1;33m)\u001B[0m\u001B[1;33m\u001B[0m\u001B[1;33m\u001B[0m\u001B[0m\n\u001B[0m\u001B[0;32m      5\u001B[0m     \u001B[1;31m#return YYZ_Cx_Station\u001B[0m\u001B[1;33m\u001B[0m\u001B[1;33m\u001B[0m\u001B[1;33m\u001B[0m\u001B[0m\n",
      "\u001B[1;32m<ipython-input-180-e7298f01c12e>\u001B[0m in \u001B[0;36mstationFinder\u001B[1;34m(threshold, subwayLines, lineNum, YYZ_Cx_Station)\u001B[0m\n\u001B[0;32m     38\u001B[0m \u001B[1;33m\u001B[0m\u001B[0m\n\u001B[0;32m     39\u001B[0m     \u001B[1;31m#convert data frame to numpy array to append to list so we can plot\u001B[0m\u001B[1;33m\u001B[0m\u001B[1;33m\u001B[0m\u001B[1;33m\u001B[0m\u001B[0m\n\u001B[1;32m---> 40\u001B[1;33m     \u001B[0mlineStat\u001B[0m \u001B[1;33m=\u001B[0m \u001B[1;33m(\u001B[0m\u001B[0mdf\u001B[0m\u001B[1;33m[\u001B[0m\u001B[1;34m'lat'\u001B[0m\u001B[1;33m]\u001B[0m\u001B[1;33m.\u001B[0m\u001B[0mvalues\u001B[0m\u001B[1;33m,\u001B[0m \u001B[0mdf\u001B[0m\u001B[1;33m[\u001B[0m\u001B[1;34m'long'\u001B[0m\u001B[1;33m]\u001B[0m\u001B[1;33m.\u001B[0m\u001B[0mvalues\u001B[0m\u001B[1;33m)\u001B[0m\u001B[1;33m\u001B[0m\u001B[1;33m\u001B[0m\u001B[0m\n\u001B[0m\u001B[0;32m     41\u001B[0m \u001B[1;33m\u001B[0m\u001B[0m\n\u001B[0;32m     42\u001B[0m     \u001B[0mYYZ_Cx_Station\u001B[0m\u001B[1;33m.\u001B[0m\u001B[0mappend\u001B[0m\u001B[1;33m(\u001B[0m\u001B[0mlineStat\u001B[0m\u001B[1;33m)\u001B[0m\u001B[1;33m\u001B[0m\u001B[1;33m\u001B[0m\u001B[0m\n",
      "\u001B[1;32m~\\anaconda3\\lib\\site-packages\\pandas\\core\\frame.py\u001B[0m in \u001B[0;36m__getitem__\u001B[1;34m(self, key)\u001B[0m\n\u001B[0;32m   3022\u001B[0m             \u001B[1;32mif\u001B[0m \u001B[0mself\u001B[0m\u001B[1;33m.\u001B[0m\u001B[0mcolumns\u001B[0m\u001B[1;33m.\u001B[0m\u001B[0mnlevels\u001B[0m \u001B[1;33m>\u001B[0m \u001B[1;36m1\u001B[0m\u001B[1;33m:\u001B[0m\u001B[1;33m\u001B[0m\u001B[1;33m\u001B[0m\u001B[0m\n\u001B[0;32m   3023\u001B[0m                 \u001B[1;32mreturn\u001B[0m \u001B[0mself\u001B[0m\u001B[1;33m.\u001B[0m\u001B[0m_getitem_multilevel\u001B[0m\u001B[1;33m(\u001B[0m\u001B[0mkey\u001B[0m\u001B[1;33m)\u001B[0m\u001B[1;33m\u001B[0m\u001B[1;33m\u001B[0m\u001B[0m\n\u001B[1;32m-> 3024\u001B[1;33m             \u001B[0mindexer\u001B[0m \u001B[1;33m=\u001B[0m \u001B[0mself\u001B[0m\u001B[1;33m.\u001B[0m\u001B[0mcolumns\u001B[0m\u001B[1;33m.\u001B[0m\u001B[0mget_loc\u001B[0m\u001B[1;33m(\u001B[0m\u001B[0mkey\u001B[0m\u001B[1;33m)\u001B[0m\u001B[1;33m\u001B[0m\u001B[1;33m\u001B[0m\u001B[0m\n\u001B[0m\u001B[0;32m   3025\u001B[0m             \u001B[1;32mif\u001B[0m \u001B[0mis_integer\u001B[0m\u001B[1;33m(\u001B[0m\u001B[0mindexer\u001B[0m\u001B[1;33m)\u001B[0m\u001B[1;33m:\u001B[0m\u001B[1;33m\u001B[0m\u001B[1;33m\u001B[0m\u001B[0m\n\u001B[0;32m   3026\u001B[0m                 \u001B[0mindexer\u001B[0m \u001B[1;33m=\u001B[0m \u001B[1;33m[\u001B[0m\u001B[0mindexer\u001B[0m\u001B[1;33m]\u001B[0m\u001B[1;33m\u001B[0m\u001B[1;33m\u001B[0m\u001B[0m\n",
      "\u001B[1;32m~\\anaconda3\\lib\\site-packages\\pandas\\core\\indexes\\base.py\u001B[0m in \u001B[0;36mget_loc\u001B[1;34m(self, key, method, tolerance)\u001B[0m\n\u001B[0;32m   3080\u001B[0m                 \u001B[1;32mreturn\u001B[0m \u001B[0mself\u001B[0m\u001B[1;33m.\u001B[0m\u001B[0m_engine\u001B[0m\u001B[1;33m.\u001B[0m\u001B[0mget_loc\u001B[0m\u001B[1;33m(\u001B[0m\u001B[0mcasted_key\u001B[0m\u001B[1;33m)\u001B[0m\u001B[1;33m\u001B[0m\u001B[1;33m\u001B[0m\u001B[0m\n\u001B[0;32m   3081\u001B[0m             \u001B[1;32mexcept\u001B[0m \u001B[0mKeyError\u001B[0m \u001B[1;32mas\u001B[0m \u001B[0merr\u001B[0m\u001B[1;33m:\u001B[0m\u001B[1;33m\u001B[0m\u001B[1;33m\u001B[0m\u001B[0m\n\u001B[1;32m-> 3082\u001B[1;33m                 \u001B[1;32mraise\u001B[0m \u001B[0mKeyError\u001B[0m\u001B[1;33m(\u001B[0m\u001B[0mkey\u001B[0m\u001B[1;33m)\u001B[0m \u001B[1;32mfrom\u001B[0m \u001B[0merr\u001B[0m\u001B[1;33m\u001B[0m\u001B[1;33m\u001B[0m\u001B[0m\n\u001B[0m\u001B[0;32m   3083\u001B[0m \u001B[1;33m\u001B[0m\u001B[0m\n\u001B[0;32m   3084\u001B[0m         \u001B[1;32mif\u001B[0m \u001B[0mtolerance\u001B[0m \u001B[1;32mis\u001B[0m \u001B[1;32mnot\u001B[0m \u001B[1;32mNone\u001B[0m\u001B[1;33m:\u001B[0m\u001B[1;33m\u001B[0m\u001B[1;33m\u001B[0m\u001B[0m\n",
      "\u001B[1;31mKeyError\u001B[0m: 'lat'"
     ]
    }
   ],
   "source": [
    "getStation(0.9, 5)"
   ],
   "metadata": {
    "collapsed": false
   }
  },
  {
   "cell_type": "code",
   "execution_count": null,
   "outputs": [],
   "source": [
    "plotHeatmapPolynomial(YYZ_GridPoints, YYZ_Cx_Station)"
   ],
   "metadata": {
    "collapsed": false
   }
  }
 ],
 "metadata": {
  "kernelspec": {
   "display_name": "Python 3",
   "language": "python",
   "name": "python3"
  },
  "language_info": {
   "codemirror_mode": {
    "name": "ipython",
    "version": 3
   },
   "file_extension": ".py",
   "mimetype": "text/x-python",
   "name": "python",
   "nbconvert_exporter": "python",
   "pygments_lexer": "ipython3",
   "version": "3.8.8"
  },
  "vscode": {
   "interpreter": {
    "hash": "c2bb28fb50d347e19385f7173bf37f33bb6996834ac42484f7165bec0c7f1cbb"
   }
  }
 },
 "nbformat": 4,
 "nbformat_minor": 4
}
