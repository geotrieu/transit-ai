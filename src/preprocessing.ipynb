{
 "cells": [
  {
   "cell_type": "code",
   "execution_count": null,
   "metadata": {},
   "outputs": [],
   "source": [
    "import numpy as np\n",
    "import matplotlib.pyplot as plt\n",
    "import pandas as pd\n",
    "from sklearn.linear_model import LinearRegression\n",
    "from sklearn.preprocessing import PolynomialFeatures\n",
    "import seaborn as sns\n",
    "import statistics\n",
    "from get_bounds import *\n",
    "from k_means_equal_size import *\n",
    "from sklearn.cluster import KMeans"
   ]
  },
  {
   "cell_type": "markdown",
   "metadata": {},
   "source": [
    "### Grid Points Load (output from scoring.ipynb)\n",
    "#### Grid Points are now scored in `scoring.ipynb`."
   ]
  },
  {
   "cell_type": "code",
   "execution_count": null,
   "metadata": {},
   "outputs": [],
   "source": [
    "YYZ_GridPoints = pd.read_csv('../res/grid_points/yyz_grid_points.csv', sep = ',')"
   ]
  },
  {
   "cell_type": "markdown",
   "metadata": {},
   "source": [
    "### Parameters"
   ]
  },
  {
   "cell_type": "code",
   "execution_count": null,
   "metadata": {},
   "outputs": [],
   "source": [
    "STD_DEV = 0.6\n",
    "PT_DENSITY = 50"
   ]
  },
  {
   "cell_type": "markdown",
   "metadata": {},
   "source": [
    "### Regression"
   ]
  },
  {
   "cell_type": "code",
   "execution_count": null,
   "metadata": {},
   "outputs": [],
   "source": [
    "def linearRegression(scores):\n",
    "    # step 1: don't use points that are very small (threshold)\n",
    "    threshold = statistics.median(scores['score'])\n",
    "    thresholded_scores = scores.loc[scores['score'] >= threshold]\n",
    "    #print(thresholded_scores)\n",
    "    \n",
    "    regr = LinearRegression()\n",
    "    lats = thresholded_scores[\"lat\"].values.reshape(-1, 1)\n",
    "    longs = thresholded_scores[\"long\"].values.reshape(-1, 1)\n",
    "    regr.fit(lats, longs, thresholded_scores[\"score\"]) # Score is Squared because sample_weight is square rooted thresholded_scores[\"score\"]\n",
    "    x_begin = lats[0]\n",
    "    x_end = lats[-1]\n",
    "    y_begin = regr.predict(x_begin.reshape(1, -1)).item()\n",
    "    y_end = regr.predict(x_end.reshape(1, -1)).item()\n",
    "    \n",
    "    return (x_begin.item(), x_end.item(), y_begin, y_end)"
   ]
  },
  {
   "cell_type": "code",
   "execution_count": null,
   "metadata": {},
   "outputs": [],
   "source": [
    "def polynomialRegression(scores, degree, upperLatBound, bottomLatBound):\n",
    "    poly = PolynomialFeatures(degree, include_bias=False)\n",
    "    poly_features = poly.fit_transform(scores[\"lat\"].values.reshape(-1, 1))\n",
    "    poly_reg_model = LinearRegression().fit(poly_features, scores[\"long\"], scores[\"score\"])\n",
    "    x = scores['lat'].unique()\n",
    "    #x = np.arange(bottomLatBound, upperLatBound, round((upperLatBound-bottomLatBound)/PT_DENSITY, 4))\n",
    "    y = poly_reg_model.predict(poly.fit_transform(x.reshape(-1, 1)))\n",
    "    return (x, y, poly_reg_model.intercept_, poly_reg_model.coef_)"
   ]
  },
  {
   "cell_type": "markdown",
   "metadata": {},
   "source": [
    "### Filtering and Processing"
   ]
  },
  {
   "cell_type": "code",
   "execution_count": null,
   "metadata": {},
   "outputs": [],
   "source": [
    "def trimOutOfBounds(points, upperLatBound, bottomLatBound, leftLongBound, rightLongBound):\n",
    "    df = pd.DataFrame({'lat': points[0], 'long': points[1]})\n",
    "    df = df.loc[(df['lat'] >= bottomLatBound) & (df['lat'] <= upperLatBound) & (df['long'] >= leftLongBound) & (df['long'] <= rightLongBound)]\n",
    "    return (df['lat'].values, df['long'].values)"
   ]
  },
  {
   "cell_type": "code",
   "execution_count": null,
   "metadata": {},
   "outputs": [],
   "source": [
    "def snapLongToGrid(points, leftLongBound, rightLongBound):\n",
    "    step = round((rightLongBound-leftLongBound)/(PT_DENSITY-1), 4)\n",
    "    pointsDf = pd.DataFrame({'lat': points[0], 'long': points[1]})\n",
    "    for index, row in pointsDf.iterrows():\n",
    "        pointsDf.at[index, 'long'] = pointsDf.at[index, 'long'] - ((pointsDf.at[index, 'long'] - leftLongBound) % step)\n",
    "    return (pointsDf['lat'].values, pointsDf['long'].values)"
   ]
  },
  {
   "cell_type": "markdown",
   "metadata": {},
   "source": [
    "### Plotting Functions"
   ]
  },
  {
   "cell_type": "code",
   "execution_count": null,
   "metadata": {},
   "outputs": [],
   "source": [
    "def plotScores(scores):\n",
    "    fig = plt.figure()\n",
    "    ax = fig.add_subplot(projection='3d')\n",
    "    fig.set_figheight(10)\n",
    "    fig.set_figwidth(10)\n",
    "    ax.scatter(scores[\"lat\"], scores[\"long\"], scores[\"score\"])\n",
    "    return ax"
   ]
  },
  {
   "cell_type": "code",
   "execution_count": null,
   "metadata": {},
   "outputs": [],
   "source": [
    "def plotScoresWithLine(scores, line):\n",
    "    ax = plotScores(scores)\n",
    "    ax.plot([line[0], line[1]], [line[2], line[3]], [0, 0], color='red', linewidth=3)\n",
    "    return ax"
   ]
  },
  {
   "cell_type": "code",
   "execution_count": null,
   "metadata": {},
   "outputs": [],
   "source": [
    "def plotScoresWithCurve(scores, curve):\n",
    "    ax = plotScores(scores)\n",
    "    ax.scatter(curve[0], curve[1], 0)\n",
    "    return ax"
   ]
  },
  {
   "cell_type": "code",
   "execution_count": null,
   "metadata": {},
   "outputs": [],
   "source": [
    "def plotHeatmap(scores, line):\n",
    "    y_begin = line[2]\n",
    "    y_end = line[3]\n",
    "    fig = plt.figure()\n",
    "    ax = sns.heatmap(scores.pivot(\"long\", \"lat\", \"score\"))\n",
    "    y_begin_hm = int((y_begin - scores[\"long\"].iloc[0]) / (scores[\"long\"].iloc[-1] - scores[\"long\"].iloc[0]) * PT_DENSITY)\n",
    "    y_end_hm = int((y_end - scores[\"long\"].iloc[0]) / (scores[\"long\"].iloc[-1] - scores[\"long\"].iloc[0]) * PT_DENSITY)\n",
    "    ax.plot([0, PT_DENSITY], [y_begin_hm, y_end_hm], linewidth=3, color='r')\n",
    "    return ax"
   ]
  },
  {
   "cell_type": "code",
   "execution_count": null,
   "metadata": {},
   "outputs": [],
   "source": [
    "def plotHeatmapPolynomial(scores, curves):\n",
    "    fig = plt.figure()\n",
    "    ax = sns.heatmap(scores.pivot(\"long\", \"lat\", \"score\"))\n",
    "    for curve in curves:\n",
    "        x = curve[0]\n",
    "        y = curve[1]\n",
    "        x_hm = [int(a) for a in ((x - scores[\"lat\"].iloc[0]) / (scores[\"lat\"].iloc[-1] - scores[\"lat\"].iloc[0]) * PT_DENSITY)]\n",
    "        y_hm = [int(a) for a in ((y - scores[\"long\"].iloc[0]) / (scores[\"long\"].iloc[-1] - scores[\"long\"].iloc[0]) * PT_DENSITY)]\n",
    "        ax.scatter(x_hm, y_hm, linewidth=1)\n",
    "    return ax"
   ]
  },
  {
   "cell_type": "markdown",
   "source": [
    "### Clustering Functions"
   ],
   "metadata": {
    "collapsed": false
   }
  },
  {
   "cell_type": "code",
   "execution_count": null,
   "outputs": [],
   "source": [],
   "metadata": {
    "collapsed": false
   }
  },
  {
   "cell_type": "markdown",
   "metadata": {},
   "source": [
    "### Toronto (YYZ)"
   ]
  },
  {
   "cell_type": "code",
   "execution_count": null,
   "metadata": {},
   "outputs": [],
   "source": [
    "[YYZ_UpperLatBound, YYZ_BottomLatBound, YYZ_LeftLongBound, YYZ_RightLongBound] = getBounds(YYZ_GridPoints['lat'], YYZ_GridPoints['long'], 4)"
   ]
  },
  {
   "cell_type": "markdown",
   "metadata": {},
   "source": [
    "### Clustering"
   ]
  },
  {
   "cell_type": "code",
   "execution_count": null,
   "metadata": {},
   "outputs": [],
   "source": [
    "NUM_CLUSTERS = 6\n",
    "INTERCHANGE_CANDIDATE_BONUS_FACTOR = 5"
   ]
  },
  {
   "cell_type": "code",
   "execution_count": null,
   "metadata": {},
   "outputs": [],
   "source": [
    "YYZ_C_Scores = YYZ_GridPoints.copy()\n",
    "YYZ_C_Scores = YYZ_C_Scores.loc[YYZ_C_Scores['score'] > 0.5]"
   ]
  },
  {
   "cell_type": "code",
   "execution_count": null,
   "outputs": [],
   "source": [
    "kmeans = KMeans(n_clusters=NUM_CLUSTERS, random_state=0).fit(YYZ_C_Scores[[\"lat\", \"long\"]], 0, YYZ_C_Scores[\"score\"])"
   ],
   "metadata": {
    "collapsed": false
   }
  },
  {
   "cell_type": "code",
   "execution_count": null,
   "metadata": {},
   "outputs": [],
   "source": [
    "fig = plt.figure()\n",
    "ax = fig.add_subplot(projection='3d')\n",
    "fig.set_figheight(10)\n",
    "fig.set_figwidth(10)\n",
    "ax.scatter(YYZ_C_Scores[\"lat\"], YYZ_C_Scores[\"long\"], YYZ_C_Scores[\"score\"], c=kmeans.labels_.astype(float))"
   ]
  },
  {
   "cell_type": "code",
   "execution_count": null,
   "metadata": {},
   "outputs": [],
   "source": [
    "fig = plt.figure()\n",
    "ax = fig.add_subplot()\n",
    "fig.set_figheight(10)\n",
    "fig.set_figwidth(10)\n",
    "ax.scatter(YYZ_C_Scores[\"lat\"], YYZ_C_Scores[\"long\"], c=kmeans.labels_.astype(float))"
   ]
  },
  {
   "cell_type": "code",
   "execution_count": null,
   "outputs": [],
   "source": [
    "YYZ_C_Scores['cluster'] = kmeans.labels_.tolist()"
   ],
   "metadata": {
    "collapsed": false
   }
  },
  {
   "cell_type": "code",
   "execution_count": null,
   "outputs": [],
   "source": [
    "# we have to sort the clusters so the downtown line gets created first\n",
    "def sortClustersByScore(gridPoints):\n",
    "    clusterScoreSums = []\n",
    "    for i in range(NUM_CLUSTERS):\n",
    "        selectedCluster = gridPoints.loc[gridPoints['cluster'] == i]\n",
    "        clusterScoreSums.append(selectedCluster['score'].sum())\n",
    "    newClusters = dict(enumerate(np.argsort(clusterScoreSums).flatten(), 0))\n",
    "    gridPoints['cluster'] = gridPoints['cluster'].map(newClusters)\n",
    "    return gridPoints\n",
    "\n",
    "YYZ_C_Scores = sortClustersByScore(YYZ_C_Scores)"
   ],
   "metadata": {
    "collapsed": false
   }
  },
  {
   "cell_type": "code",
   "execution_count": null,
   "metadata": {},
   "outputs": [],
   "source": [
    "def getLine(scores, upper, bottom, left, right):\n",
    "    [*line, line_intercept, line_coefficients] = polynomialRegression(scores, 5, upper, bottom)\n",
    "    line = trimOutOfBounds(line, upper, bottom, left, right)\n",
    "    line = snapLongToGrid(line, left, right)\n",
    "    return (line, line_intercept, line_coefficients)"
   ]
  },
  {
   "cell_type": "code",
   "execution_count": null,
   "outputs": [],
   "source": [
    "def getPointWithHighestScore(pts):\n",
    "    return pts[pts.score == pts.score.max()]"
   ],
   "metadata": {
    "collapsed": false
   }
  },
  {
   "cell_type": "code",
   "execution_count": null,
   "outputs": [],
   "source": [
    "def getGridPointsFromLine(scores, line):\n",
    "    numPoints = len(line[0])\n",
    "    lineGridPoints = pd.DataFrame()\n",
    "\n",
    "    for index in range(0, numPoints):\n",
    "        lati = line[0][index]\n",
    "        longi = line[1][index]\n",
    "\n",
    "        scoreIndex = scores.loc[(abs(scores[\"lat\"] - lati) <= 0.005) & (abs(scores[\"long\"] - longi) <= 0.005)].index.values\n",
    "        if len(scoreIndex) > 0:\n",
    "            lineGridPoints = lineGridPoints.append(scores.iloc[scoreIndex[0]])\n",
    "\n",
    "    return lineGridPoints"
   ],
   "metadata": {
    "collapsed": false
   }
  },
  {
   "cell_type": "code",
   "execution_count": null,
   "outputs": [],
   "source": [
    "YYZ_Cx_Scores = []\n",
    "for i in range(NUM_CLUSTERS):\n",
    "    YYZ_Cx_Scores.append(YYZ_C_Scores.loc[YYZ_C_Scores['cluster'] == i])"
   ],
   "metadata": {
    "collapsed": false
   }
  },
  {
   "cell_type": "code",
   "execution_count": null,
   "outputs": [],
   "source": [
    "YYZ_Cx_Line = []\n",
    "YYZ_Cx_Interchange_Candidates = []\n",
    "for i in range(NUM_CLUSTERS):\n",
    "    YYZ_Cx_Scores[i] = YYZ_Cx_Scores[i].append(YYZ_Cx_Interchange_Candidates)\n",
    "    [line, _, _] = getLine(YYZ_Cx_Scores[i], YYZ_UpperLatBound, YYZ_BottomLatBound, YYZ_LeftLongBound, YYZ_RightLongBound)\n",
    "    YYZ_Cx_Line.append(line)\n",
    "    linePoints = getGridPointsFromLine(YYZ_GridPoints, line)\n",
    "    interchangeCandidate = getPointWithHighestScore(linePoints)\n",
    "    interchangeCandidate = interchangeCandidate.assign(score=interchangeCandidate['score']*INTERCHANGE_CANDIDATE_BONUS_FACTOR)\n",
    "    interchangeCandidate['external'] = True\n",
    "    YYZ_Cx_Interchange_Candidates.append(interchangeCandidate)\n",
    "\n",
    "    interchangeCandidatePoints = [(pd.concat(YYZ_Cx_Interchange_Candidates)[\"lat\"].to_numpy(), pd.concat(YYZ_Cx_Interchange_Candidates)[\"long\"].to_numpy())]\n",
    "    plotHeatmapPolynomial(YYZ_GridPoints, YYZ_Cx_Line + interchangeCandidatePoints)"
   ],
   "metadata": {
    "collapsed": false
   }
  },
  {
   "cell_type": "code",
   "execution_count": null,
   "outputs": [],
   "source": [
    "YYZ_Cx_Line"
   ],
   "metadata": {
    "collapsed": false
   }
  },
  {
   "cell_type": "code",
   "execution_count": null,
   "outputs": [],
   "source": [
    "round((YYZ_RightLongBound-YYZ_LeftLongBound)/(PT_DENSITY - 1), 4)"
   ],
   "metadata": {
    "collapsed": false
   }
  },
  {
   "cell_type": "code",
   "execution_count": null,
   "outputs": [],
   "source": [
    "getGridPointsFromLine(YYZ_GridPoints, YYZ_Cx_Line[0])"
   ],
   "metadata": {
    "collapsed": false
   }
  },
  {
   "cell_type": "code",
   "execution_count": null,
   "outputs": [],
   "source": [
    "interchangeCandidatePoints = [(pd.concat(YYZ_Cx_Interchange_Candidates)[\"lat\"].to_numpy(), pd.concat(YYZ_Cx_Interchange_Candidates)[\"long\"].to_numpy())]\n",
    "plotHeatmapPolynomial(YYZ_GridPoints, YYZ_Cx_Line + interchangeCandidatePoints)"
   ],
   "metadata": {
    "collapsed": false
   }
  },
  {
   "cell_type": "markdown",
   "source": [
    "### Export Cells"
   ],
   "metadata": {
    "collapsed": false
   }
  },
  {
   "cell_type": "code",
   "execution_count": null,
   "outputs": [],
   "source": [
    "with open('coords.txt', 'w') as f:\n",
    "    f.write(\"----------LATS-------\\n\")\n",
    "    for line in YYZ_Cx_Line:\n",
    "        f.write(\"[\")\n",
    "        for lat in line[0]:\n",
    "            f.write(str(lat))\n",
    "            f.write(',')\n",
    "        f.write(\"],\")\n",
    "        f.write(\"\\n\")\n",
    "    f.write(\"----------LONGS-------\\n\")\n",
    "    for line in YYZ_Cx_Line:\n",
    "        f.write(\"[\")\n",
    "        for long in line[1]:\n",
    "            f.write(str(long))\n",
    "            f.write(',')\n",
    "        f.write(\"],\")\n",
    "        f.write(\"\\n\")"
   ],
   "metadata": {
    "collapsed": false
   }
  },
  {
   "cell_type": "markdown",
   "source": [
    "# Finding Stations"
   ],
   "metadata": {
    "collapsed": false
   }
  },
  {
   "cell_type": "code",
   "execution_count": null,
   "outputs": [],
   "source": [
    "#line numbers are 0 indexed\n",
    "YYZ_Cx_Station = []\n",
    "\n",
    "\n",
    "def stationFinder(threshold, subwayLines, lineNum, YYZ_Cx_Station):\n",
    "    size = len(subwayLines[lineNum][0])\n",
    "    df = pd.DataFrame()\n",
    "\n",
    "    for index in range(0, size):\n",
    "\n",
    "        lati = subwayLines[lineNum][0][index]\n",
    "        longi = subwayLines[lineNum][1][index]\n",
    "\n",
    "        #print(YYZ_C_Scores.index.values)\n",
    "\n",
    "        scoreIndex = YYZ_GridPoints.loc[(abs(YYZ_GridPoints[\"lat\"] - lati) <= 0.00001) & (\n",
    "                    abs(YYZ_GridPoints[\"long\"] - longi) <= 0.00001)].index.values\n",
    "        #print(scoreIndex)\n",
    "\n",
    "        #check the score at this lat and long\n",
    "        if len(scoreIndex) > 0:\n",
    "\n",
    "            scoreInd = scoreIndex[0]\n",
    "            score = YYZ_GridPoints[\"score\"][scoreIndex]\n",
    "\n",
    "            #print(score)\n",
    "\n",
    "            #if above desire threshold add to data frame which we will then convert to numpy array\n",
    "            if score[scoreIndex][scoreInd] >= threshold:\n",
    "                #print(\"Hello\")\n",
    "                if df.empty:\n",
    "                    d = {'lat': [lati], 'long': [longi]}\n",
    "                    df = pd.DataFrame(data=d)\n",
    "                else:\n",
    "\n",
    "                    new_row = {'lat': lati, 'long': longi}\n",
    "                    df = df.append(new_row, ignore_index=True)\n",
    "\n",
    "    #convert data frame to numpy array to append to list so we can plot\n",
    "    lineStat = (df['lat'].values, df['long'].values)\n",
    "\n",
    "    YYZ_Cx_Station.append(lineStat)\n",
    "\n",
    "    #return the new set of points\n",
    "    return YYZ_Cx_Station"
   ],
   "metadata": {
    "collapsed": false
   }
  },
  {
   "cell_type": "code",
   "execution_count": null,
   "outputs": [],
   "source": [
    "#lineNum is not 0 indexed\n",
    "def getStation(threshold, lineNum):\n",
    "    for idx in range(0, lineNum):\n",
    "        stationFinder(threshold,YYZ_Cx_Line, idx, YYZ_Cx_Station)\n",
    "    #return YYZ_Cx_Station"
   ],
   "metadata": {
    "collapsed": false
   }
  },
  {
   "cell_type": "code",
   "execution_count": null,
   "outputs": [],
   "source": [
    "getStation(0.9, 5)"
   ],
   "metadata": {
    "collapsed": false
   }
  },
  {
   "cell_type": "code",
   "execution_count": null,
   "outputs": [],
   "source": [
    "plotHeatmapPolynomial(YYZ_GridPoints, YYZ_Cx_Station)"
   ],
   "metadata": {
    "collapsed": false
   }
  },
  {
   "cell_type": "code",
   "execution_count": null,
   "outputs": [],
   "source": [
    "json.dumps()"
   ],
   "metadata": {
    "collapsed": false
   }
  }
 ],
 "metadata": {
  "kernelspec": {
   "display_name": "Python 3",
   "language": "python",
   "name": "python3"
  },
  "language_info": {
   "codemirror_mode": {
    "name": "ipython",
    "version": 3
   },
   "file_extension": ".py",
   "mimetype": "text/x-python",
   "name": "python",
   "nbconvert_exporter": "python",
   "pygments_lexer": "ipython3",
   "version": "3.8.8"
  },
  "vscode": {
   "interpreter": {
    "hash": "c2bb28fb50d347e19385f7173bf37f33bb6996834ac42484f7165bec0c7f1cbb"
   }
  }
 },
 "nbformat": 4,
 "nbformat_minor": 4
}
