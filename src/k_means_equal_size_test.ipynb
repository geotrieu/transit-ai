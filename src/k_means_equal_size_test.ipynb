{
 "cells": [
  {
   "cell_type": "code",
   "execution_count": 5,
   "metadata": {
    "collapsed": true
   },
   "outputs": [],
   "source": [
    "from k_means_equal_size import *\n",
    "import seaborn as sns\n",
    "import matplotlib.pyplot as plt\n",
    "from sklearn.datasets import make_gaussian_quantiles"
   ]
  },
  {
   "cell_type": "code",
   "execution_count": 9,
   "outputs": [
    {
     "data": {
      "text/plain": "<Figure size 432x288 with 1 Axes>",
      "image/png": "[encoded data removed]"
     },
     "metadata": {},
     "output_type": "display_data"
    }
   ],
   "source": [
    "# Create a dataset of 2D distributions\n",
    "centers = 5\n",
    "X_train, true_labels = make_gaussian_quantiles(n_samples=100, random_state=42)\n",
    "X_train = StandardScaler().fit_transform(X_train)\n",
    "# Fit centroids to dataset\n",
    "kmeans = KMeansEqualSize(n_clusters=centers)\n",
    "kmeans.fit(X_train)\n",
    "# View results\n",
    "class_centers, classification = kmeans.evaluate(X_train)\n",
    "sns.scatterplot(x=[X[0] for X in X_train],\n",
    "                y=[X[1] for X in X_train],\n",
    "                hue=classification,\n",
    "                style=true_labels,\n",
    "                palette=\"deep\",\n",
    "                legend=None\n",
    "                )\n",
    "plt.plot([x for x, _ in kmeans.centroids],\n",
    "         [y for _, y in kmeans.centroids],\n",
    "         'k+',\n",
    "         markersize=10,\n",
    "         )\n",
    "plt.show()"
   ],
   "metadata": {
    "collapsed": false
   }
  },
  {
   "cell_type": "code",
   "execution_count": 8,
   "outputs": [
    {
     "data": {
      "text/plain": "[4,\n 2,\n 2,\n 1,\n 3,\n 2,\n 3,\n 2,\n 0,\n 0,\n 0,\n 4,\n 4,\n 1,\n 1,\n 4,\n 0,\n 4,\n 3,\n 2,\n 1,\n 4,\n 2,\n 4,\n 3,\n 0,\n 2,\n 0,\n 1,\n 2,\n 4,\n 2,\n 3,\n 3,\n 0,\n 2,\n 1,\n 0,\n 3,\n 2,\n 3,\n 0,\n 2,\n 3,\n 1,\n 3,\n 1,\n 0,\n 3,\n 0,\n 2,\n 0,\n 2,\n 1,\n 2,\n 3,\n 4,\n 1,\n 0,\n 1,\n 3,\n 3,\n 4,\n 1,\n 2,\n 2,\n 0,\n 2,\n 3,\n 2,\n 2,\n 1,\n 2,\n 1,\n 0,\n 1,\n 0,\n 2,\n 0,\n 3,\n 3,\n 3,\n 2,\n 2,\n 0,\n 2,\n 0,\n 2,\n 0,\n 1,\n 1,\n 1,\n 1,\n 2,\n 1,\n 0,\n 1,\n 0,\n 4,\n 0]"
     },
     "execution_count": 8,
     "metadata": {},
     "output_type": "execute_result"
    }
   ],
   "source": [
    "classification"
   ],
   "metadata": {
    "collapsed": false
   }
  },
  {
   "cell_type": "code",
   "execution_count": null,
   "outputs": [],
   "source": [],
   "metadata": {
    "collapsed": false
   }
  }
 ],
 "metadata": {
  "kernelspec": {
   "display_name": "Python 3",
   "language": "python",
   "name": "python3"
  },
  "language_info": {
   "codemirror_mode": {
    "name": "ipython",
    "version": 2
   },
   "file_extension": ".py",
   "mimetype": "text/x-python",
   "name": "python",
   "nbconvert_exporter": "python",
   "pygments_lexer": "ipython2",
   "version": "2.7.6"
  }
 },
 "nbformat": 4,
 "nbformat_minor": 0
}
